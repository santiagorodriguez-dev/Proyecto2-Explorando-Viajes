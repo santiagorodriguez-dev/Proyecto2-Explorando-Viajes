{
 "cells": [
  {
   "cell_type": "code",
   "execution_count": 1,
   "metadata": {},
   "outputs": [],
   "source": [
    "import sys\n",
    "sys.path.append(\"../\")\n",
    "from src import scrap_actividades as sc1"
   ]
  },
  {
   "cell_type": "code",
   "execution_count": 2,
   "metadata": {},
   "outputs": [
    {
     "name": "stdout",
     "output_type": "stream",
     "text": [
      "Numero de registros devueltos: 80\n",
      "\n",
      " el total duró 36.50 segundos.\n"
     ]
    }
   ],
   "source": [
    "input_data =[['valencia','2024-11-01','2024-11-03'],['valencia','2024-11-08','2024-11-10']]\n",
    "num_pag = 3\n",
    "\n",
    "df = sc1.main(input_data,num_pag)\n"
   ]
  },
  {
   "cell_type": "code",
   "execution_count": 5,
   "metadata": {},
   "outputs": [
    {
     "data": {
      "text/html": [
       "<div>\n",
       "<style scoped>\n",
       "    .dataframe tbody tr th:only-of-type {\n",
       "        vertical-align: middle;\n",
       "    }\n",
       "\n",
       "    .dataframe tbody tr th {\n",
       "        vertical-align: top;\n",
       "    }\n",
       "\n",
       "    .dataframe thead th {\n",
       "        text-align: right;\n",
       "    }\n",
       "</style>\n",
       "<table border=\"1\" class=\"dataframe\">\n",
       "  <thead>\n",
       "    <tr style=\"text-align: right;\">\n",
       "      <th></th>\n",
       "      <th>titulo</th>\n",
       "      <th>descripcion</th>\n",
       "      <th>precio</th>\n",
       "      <th>ciudad</th>\n",
       "      <th>fecha_ini</th>\n",
       "      <th>fecha_fin</th>\n",
       "    </tr>\n",
       "  </thead>\n",
       "  <tbody>\n",
       "    <tr>\n",
       "      <th>0</th>\n",
       "      <td>Free tour por Valencia</td>\n",
       "      <td>En este free tour por Valencia descubriremos e...</td>\n",
       "      <td>0</td>\n",
       "      <td>valencia</td>\n",
       "      <td>2024-11-01</td>\n",
       "      <td>2024-11-03</td>\n",
       "    </tr>\n",
       "    <tr>\n",
       "      <th>1</th>\n",
       "      <td>Entrada al Oceanogràfic</td>\n",
       "      <td>Preparaos para adentraros en el increíble mund...</td>\n",
       "      <td>37</td>\n",
       "      <td>valencia</td>\n",
       "      <td>2024-11-01</td>\n",
       "      <td>2024-11-03</td>\n",
       "    </tr>\n",
       "    <tr>\n",
       "      <th>2</th>\n",
       "      <td>Tour de Valencia al completo con entradas</td>\n",
       "      <td>¿Queréis conocer los lugares más famosos de Va...</td>\n",
       "      <td>39</td>\n",
       "      <td>valencia</td>\n",
       "      <td>2024-11-01</td>\n",
       "      <td>2024-11-03</td>\n",
       "    </tr>\n",
       "    <tr>\n",
       "      <th>3</th>\n",
       "      <td>Entrada a la Ciudad de las Artes y las Ciencias</td>\n",
       "      <td>Comprad ya la entrada a la Ciudad de las Artes...</td>\n",
       "      <td>45.20</td>\n",
       "      <td>valencia</td>\n",
       "      <td>2024-11-01</td>\n",
       "      <td>2024-11-03</td>\n",
       "    </tr>\n",
       "    <tr>\n",
       "      <th>4</th>\n",
       "      <td>Traslados en Valencia</td>\n",
       "      <td>Servicio privado, puerta a puerta y al mejor p...</td>\n",
       "      <td>35</td>\n",
       "      <td>valencia</td>\n",
       "      <td>2024-11-01</td>\n",
       "      <td>2024-11-03</td>\n",
       "    </tr>\n",
       "  </tbody>\n",
       "</table>\n",
       "</div>"
      ],
      "text/plain": [
       "                                            titulo  \\\n",
       "0                           Free tour por Valencia   \n",
       "1                          Entrada al Oceanogràfic   \n",
       "2        Tour de Valencia al completo con entradas   \n",
       "3  Entrada a la Ciudad de las Artes y las Ciencias   \n",
       "4                            Traslados en Valencia   \n",
       "\n",
       "                                         descripcion precio    ciudad  \\\n",
       "0  En este free tour por Valencia descubriremos e...      0  valencia   \n",
       "1  Preparaos para adentraros en el increíble mund...     37  valencia   \n",
       "2  ¿Queréis conocer los lugares más famosos de Va...     39  valencia   \n",
       "3  Comprad ya la entrada a la Ciudad de las Artes...  45.20  valencia   \n",
       "4  Servicio privado, puerta a puerta y al mejor p...     35  valencia   \n",
       "\n",
       "    fecha_ini   fecha_fin  \n",
       "0  2024-11-01  2024-11-03  \n",
       "1  2024-11-01  2024-11-03  \n",
       "2  2024-11-01  2024-11-03  \n",
       "3  2024-11-01  2024-11-03  \n",
       "4  2024-11-01  2024-11-03  "
      ]
     },
     "execution_count": 5,
     "metadata": {},
     "output_type": "execute_result"
    }
   ],
   "source": [
    "df.head()"
   ]
  },
  {
   "cell_type": "code",
   "execution_count": 4,
   "metadata": {},
   "outputs": [],
   "source": [
    "df.to_csv(f\"../data/data_actividades.csv\")"
   ]
  }
 ],
 "metadata": {
  "kernelspec": {
   "display_name": "Python 3",
   "language": "python",
   "name": "python3"
  },
  "language_info": {
   "codemirror_mode": {
    "name": "ipython",
    "version": 3
   },
   "file_extension": ".py",
   "mimetype": "text/x-python",
   "name": "python",
   "nbconvert_exporter": "python",
   "pygments_lexer": "ipython3",
   "version": "3.12.5"
  }
 },
 "nbformat": 4,
 "nbformat_minor": 2
}
