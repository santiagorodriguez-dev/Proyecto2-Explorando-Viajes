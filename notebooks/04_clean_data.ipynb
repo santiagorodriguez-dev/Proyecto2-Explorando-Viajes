{
 "cells": [
  {
   "cell_type": "markdown",
   "metadata": {},
   "source": [
    "#### Importamos librerias"
   ]
  },
  {
   "cell_type": "code",
   "execution_count": 1,
   "metadata": {},
   "outputs": [],
   "source": [
    "import pandas as pd # type: ignore"
   ]
  },
  {
   "cell_type": "markdown",
   "metadata": {},
   "source": [
    "#### Cargamos en dataframe los datos obtenidos, con las columnas selecionadas"
   ]
  },
  {
   "cell_type": "code",
   "execution_count": 2,
   "metadata": {},
   "outputs": [],
   "source": [
    "df_actividades = pd.read_csv(\"../data/data_actividades_eda.csv\", index_col = 0)\n",
    "df_hoteles= pd.read_csv(\"../data/data_hoteles_eda.csv\", index_col = 0)\n",
    "df_vuelos = pd.read_csv(\"../data/data_sky_scrapper_eda.csv\", index_col = 0)"
   ]
  },
  {
   "cell_type": "markdown",
   "metadata": {},
   "source": [
    "#### Analizamos Actividades"
   ]
  },
  {
   "cell_type": "markdown",
   "metadata": {},
   "source": [
    "Nulos"
   ]
  },
  {
   "cell_type": "code",
   "execution_count": 3,
   "metadata": {},
   "outputs": [
    {
     "data": {
      "text/plain": [
       "titulo       0\n",
       "precio       0\n",
       "ciudad       0\n",
       "fecha_ini    0\n",
       "dtype: int64"
      ]
     },
     "metadata": {},
     "output_type": "display_data"
    }
   ],
   "source": [
    "display(df_actividades.isnull().sum())"
   ]
  },
  {
   "cell_type": "markdown",
   "metadata": {},
   "source": [
    "Comprobamos tipos de datos"
   ]
  },
  {
   "cell_type": "code",
   "execution_count": 4,
   "metadata": {},
   "outputs": [
    {
     "name": "stdout",
     "output_type": "stream",
     "text": [
      "<class 'pandas.core.frame.DataFrame'>\n",
      "Index: 160 entries, 0 to 159\n",
      "Data columns (total 4 columns):\n",
      " #   Column     Non-Null Count  Dtype  \n",
      "---  ------     --------------  -----  \n",
      " 0   titulo     160 non-null    object \n",
      " 1   precio     160 non-null    float64\n",
      " 2   ciudad     160 non-null    object \n",
      " 3   fecha_ini  160 non-null    object \n",
      "dtypes: float64(1), object(3)\n",
      "memory usage: 6.2+ KB\n"
     ]
    },
    {
     "data": {
      "text/plain": [
       "None"
      ]
     },
     "metadata": {},
     "output_type": "display_data"
    }
   ],
   "source": [
    "display(df_actividades.info())"
   ]
  },
  {
   "cell_type": "markdown",
   "metadata": {},
   "source": [
    "limpiamos las columnas"
   ]
  },
  {
   "cell_type": "code",
   "execution_count": 5,
   "metadata": {},
   "outputs": [],
   "source": [
    "df_actividades.loc[:, 'titulo'] = df_actividades['titulo'].str.capitalize().str.replace('\"','')\n",
    "df_actividades.loc[:, 'ciudad'] = df_actividades['ciudad'].str.capitalize()\n",
    "df_actividades['fecha_ini'] = pd.to_datetime(df_actividades['fecha_ini'])"
   ]
  },
  {
   "cell_type": "markdown",
   "metadata": {},
   "source": [
    "Comprobamos que se han reliazado los cambios"
   ]
  },
  {
   "cell_type": "code",
   "execution_count": 6,
   "metadata": {},
   "outputs": [
    {
     "name": "stdout",
     "output_type": "stream",
     "text": [
      "<class 'pandas.core.frame.DataFrame'>\n",
      "Index: 160 entries, 0 to 159\n",
      "Data columns (total 4 columns):\n",
      " #   Column     Non-Null Count  Dtype         \n",
      "---  ------     --------------  -----         \n",
      " 0   titulo     160 non-null    object        \n",
      " 1   precio     160 non-null    float64       \n",
      " 2   ciudad     160 non-null    object        \n",
      " 3   fecha_ini  160 non-null    datetime64[ns]\n",
      "dtypes: datetime64[ns](1), float64(1), object(2)\n",
      "memory usage: 6.2+ KB\n"
     ]
    },
    {
     "data": {
      "text/plain": [
       "None"
      ]
     },
     "metadata": {},
     "output_type": "display_data"
    }
   ],
   "source": [
    "display(df_actividades.info())"
   ]
  },
  {
   "cell_type": "markdown",
   "metadata": {},
   "source": [
    "#### Guardamos a csv, para la fase de visualizacion"
   ]
  },
  {
   "cell_type": "code",
   "execution_count": 7,
   "metadata": {},
   "outputs": [],
   "source": [
    "df_actividades.to_csv(f\"../data/data_actividades_clean.csv\")"
   ]
  },
  {
   "cell_type": "markdown",
   "metadata": {},
   "source": [
    "#### Analizamos Hoteles"
   ]
  },
  {
   "cell_type": "markdown",
   "metadata": {},
   "source": [
    "Nulos"
   ]
  },
  {
   "cell_type": "code",
   "execution_count": 8,
   "metadata": {},
   "outputs": [
    {
     "data": {
      "text/plain": [
       "destination                0\n",
       "city                       0\n",
       "checkin_date               0\n",
       "accommodation_type_name    0\n",
       "distance                   0\n",
       "review_score               0\n",
       "price_total                0\n",
       "hotel_name                 0\n",
       "class                      0\n",
       "dtype: int64"
      ]
     },
     "metadata": {},
     "output_type": "display_data"
    }
   ],
   "source": [
    "display(df_hoteles.isnull().sum())"
   ]
  },
  {
   "cell_type": "markdown",
   "metadata": {},
   "source": [
    "Comprobamos tipos de datos"
   ]
  },
  {
   "cell_type": "code",
   "execution_count": 9,
   "metadata": {},
   "outputs": [
    {
     "name": "stdout",
     "output_type": "stream",
     "text": [
      "<class 'pandas.core.frame.DataFrame'>\n",
      "Index: 80 entries, 0 to 79\n",
      "Data columns (total 9 columns):\n",
      " #   Column                   Non-Null Count  Dtype  \n",
      "---  ------                   --------------  -----  \n",
      " 0   destination              80 non-null     object \n",
      " 1   city                     80 non-null     object \n",
      " 2   checkin_date             80 non-null     object \n",
      " 3   accommodation_type_name  80 non-null     object \n",
      " 4   distance                 80 non-null     float64\n",
      " 5   review_score             80 non-null     float64\n",
      " 6   price_total              80 non-null     float64\n",
      " 7   hotel_name               80 non-null     object \n",
      " 8   class                    80 non-null     float64\n",
      "dtypes: float64(4), object(5)\n",
      "memory usage: 6.2+ KB\n"
     ]
    },
    {
     "data": {
      "text/plain": [
       "None"
      ]
     },
     "metadata": {},
     "output_type": "display_data"
    }
   ],
   "source": [
    "display(df_hoteles.info())"
   ]
  },
  {
   "cell_type": "markdown",
   "metadata": {},
   "source": [
    "limpiamos las columnas"
   ]
  },
  {
   "cell_type": "code",
   "execution_count": 10,
   "metadata": {},
   "outputs": [],
   "source": [
    "df_hoteles.loc[:, 'destination'] = df_hoteles['destination'].str.capitalize()\n",
    "df_hoteles.loc[:, 'city'] = df_hoteles['city'].str.capitalize()\n",
    "df_hoteles.loc[:, 'accommodation_type_name'] = df_hoteles['accommodation_type_name'].str.capitalize()\n",
    "df_hoteles.loc[:, 'hotel_name'] = df_hoteles['hotel_name'].str.capitalize().str.replace('\"','')\n",
    "df_hoteles['checkin_date'] = pd.to_datetime(df_hoteles['checkin_date'])\n",
    "df_hoteles['class'] = df_hoteles['class'].astype(int)"
   ]
  },
  {
   "cell_type": "markdown",
   "metadata": {},
   "source": [
    "Comprobamos que se han reliazado los cambios"
   ]
  },
  {
   "cell_type": "code",
   "execution_count": 11,
   "metadata": {},
   "outputs": [
    {
     "name": "stdout",
     "output_type": "stream",
     "text": [
      "<class 'pandas.core.frame.DataFrame'>\n",
      "Index: 80 entries, 0 to 79\n",
      "Data columns (total 9 columns):\n",
      " #   Column                   Non-Null Count  Dtype         \n",
      "---  ------                   --------------  -----         \n",
      " 0   destination              80 non-null     object        \n",
      " 1   city                     80 non-null     object        \n",
      " 2   checkin_date             80 non-null     datetime64[ns]\n",
      " 3   accommodation_type_name  80 non-null     object        \n",
      " 4   distance                 80 non-null     float64       \n",
      " 5   review_score             80 non-null     float64       \n",
      " 6   price_total              80 non-null     float64       \n",
      " 7   hotel_name               80 non-null     object        \n",
      " 8   class                    80 non-null     int64         \n",
      "dtypes: datetime64[ns](1), float64(3), int64(1), object(4)\n",
      "memory usage: 6.2+ KB\n"
     ]
    },
    {
     "data": {
      "text/plain": [
       "None"
      ]
     },
     "metadata": {},
     "output_type": "display_data"
    }
   ],
   "source": [
    "display(df_hoteles.info())"
   ]
  },
  {
   "cell_type": "markdown",
   "metadata": {},
   "source": [
    "#### Guardamos a csv, para la fase de visulizacion."
   ]
  },
  {
   "cell_type": "code",
   "execution_count": 12,
   "metadata": {},
   "outputs": [],
   "source": [
    "df_hoteles.to_csv(f\"../data/data_hoteles_clean.csv\")"
   ]
  },
  {
   "cell_type": "markdown",
   "metadata": {},
   "source": [
    "#### Analizamos Vuelos"
   ]
  },
  {
   "cell_type": "markdown",
   "metadata": {},
   "source": [
    "nulos"
   ]
  },
  {
   "cell_type": "code",
   "execution_count": 13,
   "metadata": {},
   "outputs": [
    {
     "data": {
      "text/plain": [
       "price          0\n",
       "origin         0\n",
       "destination    0\n",
       "departure      0\n",
       "carriers       0\n",
       "dtype: int64"
      ]
     },
     "metadata": {},
     "output_type": "display_data"
    }
   ],
   "source": [
    "display(df_vuelos.isnull().sum())"
   ]
  },
  {
   "cell_type": "markdown",
   "metadata": {},
   "source": [
    "Comprobamos tipos de datos"
   ]
  },
  {
   "cell_type": "code",
   "execution_count": 14,
   "metadata": {},
   "outputs": [
    {
     "name": "stdout",
     "output_type": "stream",
     "text": [
      "<class 'pandas.core.frame.DataFrame'>\n",
      "Index: 77 entries, 0 to 79\n",
      "Data columns (total 5 columns):\n",
      " #   Column       Non-Null Count  Dtype  \n",
      "---  ------       --------------  -----  \n",
      " 0   price        77 non-null     float64\n",
      " 1   origin       77 non-null     object \n",
      " 2   destination  77 non-null     object \n",
      " 3   departure    77 non-null     object \n",
      " 4   carriers     77 non-null     object \n",
      "dtypes: float64(1), object(4)\n",
      "memory usage: 3.6+ KB\n"
     ]
    },
    {
     "data": {
      "text/plain": [
       "None"
      ]
     },
     "metadata": {},
     "output_type": "display_data"
    }
   ],
   "source": [
    "display(df_vuelos.info())"
   ]
  },
  {
   "cell_type": "markdown",
   "metadata": {},
   "source": [
    "limpiamos las columnas"
   ]
  },
  {
   "cell_type": "code",
   "execution_count": 15,
   "metadata": {},
   "outputs": [],
   "source": [
    "df_vuelos.loc[:, 'origin'] = df_vuelos['origin'].str.capitalize()\n",
    "df_vuelos.loc[:, 'destination'] = df_vuelos['destination'].str.capitalize()\n",
    "df_vuelos.loc[:, 'carriers'] = df_vuelos['carriers'].str.capitalize()\n",
    "df_vuelos['departure_date'] = pd.to_datetime(df_vuelos['departure']).dt.date\n",
    "df_vuelos['departure'] = pd.to_datetime(df_vuelos['departure']).dt.time"
   ]
  },
  {
   "cell_type": "markdown",
   "metadata": {},
   "source": [
    "Comprobamos que se han reliazado los cambios"
   ]
  },
  {
   "cell_type": "code",
   "execution_count": 16,
   "metadata": {},
   "outputs": [
    {
     "name": "stdout",
     "output_type": "stream",
     "text": [
      "<class 'pandas.core.frame.DataFrame'>\n",
      "Index: 77 entries, 0 to 79\n",
      "Data columns (total 6 columns):\n",
      " #   Column          Non-Null Count  Dtype  \n",
      "---  ------          --------------  -----  \n",
      " 0   price           77 non-null     float64\n",
      " 1   origin          77 non-null     object \n",
      " 2   destination     77 non-null     object \n",
      " 3   departure       77 non-null     object \n",
      " 4   carriers        77 non-null     object \n",
      " 5   departure_date  77 non-null     object \n",
      "dtypes: float64(1), object(5)\n",
      "memory usage: 4.2+ KB\n"
     ]
    },
    {
     "data": {
      "text/plain": [
       "None"
      ]
     },
     "metadata": {},
     "output_type": "display_data"
    }
   ],
   "source": [
    "display(df_vuelos.info())"
   ]
  },
  {
   "cell_type": "markdown",
   "metadata": {},
   "source": [
    "#### Guardamos a csv, para la fase de visulizacion."
   ]
  },
  {
   "cell_type": "code",
   "execution_count": 17,
   "metadata": {},
   "outputs": [],
   "source": [
    "df_vuelos.to_csv(f\"../data/data_sky_scrapper_clean.csv\")"
   ]
  }
 ],
 "metadata": {
  "kernelspec": {
   "display_name": "Python 3",
   "language": "python",
   "name": "python3"
  },
  "language_info": {
   "codemirror_mode": {
    "name": "ipython",
    "version": 3
   },
   "file_extension": ".py",
   "mimetype": "text/x-python",
   "name": "python",
   "nbconvert_exporter": "python",
   "pygments_lexer": "ipython3",
   "version": "3.12.5"
  }
 },
 "nbformat": 4,
 "nbformat_minor": 2
}
