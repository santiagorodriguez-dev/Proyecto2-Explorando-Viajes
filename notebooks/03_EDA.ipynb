{
 "cells": [
  {
   "cell_type": "markdown",
   "metadata": {},
   "source": [
    "#### Importamos librerias"
   ]
  },
  {
   "cell_type": "code",
   "execution_count": 1,
   "metadata": {},
   "outputs": [],
   "source": [
    "import pandas as pd # type: ignore"
   ]
  },
  {
   "cell_type": "markdown",
   "metadata": {},
   "source": [
    "#### Cargamos en dataframe los datos obtenidos"
   ]
  },
  {
   "cell_type": "code",
   "execution_count": 2,
   "metadata": {},
   "outputs": [],
   "source": [
    "df_actividades = pd.read_csv(\"../data/data_actividades.csv\", index_col = 0)\n",
    "df_hoteles= pd.read_csv(\"../data/data_hoteles.csv\", index_col = 0)\n",
    "df_vuelos = pd.read_csv(\"../data/data_sky_scrapper.csv\", index_col = 0)"
   ]
  },
  {
   "cell_type": "markdown",
   "metadata": {},
   "source": [
    "#### Actividades"
   ]
  },
  {
   "cell_type": "code",
   "execution_count": 3,
   "metadata": {},
   "outputs": [
    {
     "data": {
      "text/plain": [
       "160"
      ]
     },
     "metadata": {},
     "output_type": "display_data"
    },
    {
     "data": {
      "text/html": [
       "<div>\n",
       "<style scoped>\n",
       "    .dataframe tbody tr th:only-of-type {\n",
       "        vertical-align: middle;\n",
       "    }\n",
       "\n",
       "    .dataframe tbody tr th {\n",
       "        vertical-align: top;\n",
       "    }\n",
       "\n",
       "    .dataframe thead th {\n",
       "        text-align: right;\n",
       "    }\n",
       "</style>\n",
       "<table border=\"1\" class=\"dataframe\">\n",
       "  <thead>\n",
       "    <tr style=\"text-align: right;\">\n",
       "      <th></th>\n",
       "      <th>titulo</th>\n",
       "      <th>descripcion</th>\n",
       "      <th>precio</th>\n",
       "      <th>ciudad</th>\n",
       "      <th>fecha_ini</th>\n",
       "      <th>fecha_fin</th>\n",
       "    </tr>\n",
       "  </thead>\n",
       "  <tbody>\n",
       "    <tr>\n",
       "      <th>0</th>\n",
       "      <td>Free tour por Valencia</td>\n",
       "      <td>En este free tour por Valencia descubriremos e...</td>\n",
       "      <td>0.0</td>\n",
       "      <td>valencia</td>\n",
       "      <td>2024-11-01</td>\n",
       "      <td>2024-11-03</td>\n",
       "    </tr>\n",
       "    <tr>\n",
       "      <th>1</th>\n",
       "      <td>Entrada al Oceanogràfic</td>\n",
       "      <td>Preparaos para adentraros en el increíble mund...</td>\n",
       "      <td>37.0</td>\n",
       "      <td>valencia</td>\n",
       "      <td>2024-11-01</td>\n",
       "      <td>2024-11-03</td>\n",
       "    </tr>\n",
       "    <tr>\n",
       "      <th>2</th>\n",
       "      <td>Tour de Valencia al completo con entradas</td>\n",
       "      <td>¿Queréis conocer los lugares más famosos de Va...</td>\n",
       "      <td>39.0</td>\n",
       "      <td>valencia</td>\n",
       "      <td>2024-11-01</td>\n",
       "      <td>2024-11-03</td>\n",
       "    </tr>\n",
       "    <tr>\n",
       "      <th>3</th>\n",
       "      <td>Entrada a la Ciudad de las Artes y las Ciencias</td>\n",
       "      <td>Comprad ya la entrada a la Ciudad de las Artes...</td>\n",
       "      <td>45.2</td>\n",
       "      <td>valencia</td>\n",
       "      <td>2024-11-01</td>\n",
       "      <td>2024-11-03</td>\n",
       "    </tr>\n",
       "    <tr>\n",
       "      <th>4</th>\n",
       "      <td>Traslados en Valencia</td>\n",
       "      <td>Servicio privado, puerta a puerta y al mejor p...</td>\n",
       "      <td>35.0</td>\n",
       "      <td>valencia</td>\n",
       "      <td>2024-11-01</td>\n",
       "      <td>2024-11-03</td>\n",
       "    </tr>\n",
       "  </tbody>\n",
       "</table>\n",
       "</div>"
      ],
      "text/plain": [
       "                                            titulo  \\\n",
       "0                           Free tour por Valencia   \n",
       "1                          Entrada al Oceanogràfic   \n",
       "2        Tour de Valencia al completo con entradas   \n",
       "3  Entrada a la Ciudad de las Artes y las Ciencias   \n",
       "4                            Traslados en Valencia   \n",
       "\n",
       "                                         descripcion  precio    ciudad  \\\n",
       "0  En este free tour por Valencia descubriremos e...     0.0  valencia   \n",
       "1  Preparaos para adentraros en el increíble mund...    37.0  valencia   \n",
       "2  ¿Queréis conocer los lugares más famosos de Va...    39.0  valencia   \n",
       "3  Comprad ya la entrada a la Ciudad de las Artes...    45.2  valencia   \n",
       "4  Servicio privado, puerta a puerta y al mejor p...    35.0  valencia   \n",
       "\n",
       "    fecha_ini   fecha_fin  \n",
       "0  2024-11-01  2024-11-03  \n",
       "1  2024-11-01  2024-11-03  \n",
       "2  2024-11-01  2024-11-03  \n",
       "3  2024-11-01  2024-11-03  \n",
       "4  2024-11-01  2024-11-03  "
      ]
     },
     "metadata": {},
     "output_type": "display_data"
    }
   ],
   "source": [
    "display(df_actividades.shape[0])\n",
    "display(df_actividades.head())"
   ]
  },
  {
   "cell_type": "markdown",
   "metadata": {},
   "source": [
    "#### Nos quedamos con las columnas titulo, precio, ciudad, fecha_ini de Actividades y eliminamos duplicados"
   ]
  },
  {
   "cell_type": "code",
   "execution_count": 4,
   "metadata": {},
   "outputs": [
    {
     "data": {
      "text/plain": [
       "160"
      ]
     },
     "metadata": {},
     "output_type": "display_data"
    },
    {
     "data": {
      "text/html": [
       "<div>\n",
       "<style scoped>\n",
       "    .dataframe tbody tr th:only-of-type {\n",
       "        vertical-align: middle;\n",
       "    }\n",
       "\n",
       "    .dataframe tbody tr th {\n",
       "        vertical-align: top;\n",
       "    }\n",
       "\n",
       "    .dataframe thead th {\n",
       "        text-align: right;\n",
       "    }\n",
       "</style>\n",
       "<table border=\"1\" class=\"dataframe\">\n",
       "  <thead>\n",
       "    <tr style=\"text-align: right;\">\n",
       "      <th></th>\n",
       "      <th>titulo</th>\n",
       "      <th>precio</th>\n",
       "      <th>ciudad</th>\n",
       "      <th>fecha_ini</th>\n",
       "    </tr>\n",
       "  </thead>\n",
       "  <tbody>\n",
       "    <tr>\n",
       "      <th>0</th>\n",
       "      <td>Free tour por Valencia</td>\n",
       "      <td>0.0</td>\n",
       "      <td>valencia</td>\n",
       "      <td>2024-11-01</td>\n",
       "    </tr>\n",
       "    <tr>\n",
       "      <th>1</th>\n",
       "      <td>Entrada al Oceanogràfic</td>\n",
       "      <td>37.0</td>\n",
       "      <td>valencia</td>\n",
       "      <td>2024-11-01</td>\n",
       "    </tr>\n",
       "    <tr>\n",
       "      <th>2</th>\n",
       "      <td>Tour de Valencia al completo con entradas</td>\n",
       "      <td>39.0</td>\n",
       "      <td>valencia</td>\n",
       "      <td>2024-11-01</td>\n",
       "    </tr>\n",
       "    <tr>\n",
       "      <th>3</th>\n",
       "      <td>Entrada a la Ciudad de las Artes y las Ciencias</td>\n",
       "      <td>45.2</td>\n",
       "      <td>valencia</td>\n",
       "      <td>2024-11-01</td>\n",
       "    </tr>\n",
       "    <tr>\n",
       "      <th>4</th>\n",
       "      <td>Traslados en Valencia</td>\n",
       "      <td>35.0</td>\n",
       "      <td>valencia</td>\n",
       "      <td>2024-11-01</td>\n",
       "    </tr>\n",
       "  </tbody>\n",
       "</table>\n",
       "</div>"
      ],
      "text/plain": [
       "                                            titulo  precio    ciudad  \\\n",
       "0                           Free tour por Valencia     0.0  valencia   \n",
       "1                          Entrada al Oceanogràfic    37.0  valencia   \n",
       "2        Tour de Valencia al completo con entradas    39.0  valencia   \n",
       "3  Entrada a la Ciudad de las Artes y las Ciencias    45.2  valencia   \n",
       "4                            Traslados en Valencia    35.0  valencia   \n",
       "\n",
       "    fecha_ini  \n",
       "0  2024-11-01  \n",
       "1  2024-11-01  \n",
       "2  2024-11-01  \n",
       "3  2024-11-01  \n",
       "4  2024-11-01  "
      ]
     },
     "metadata": {},
     "output_type": "display_data"
    }
   ],
   "source": [
    "df_actividades_clean = df_actividades[[\"titulo\",\"precio\",\"ciudad\",\"fecha_ini\"]]\n",
    "df_actividades_clean = df_actividades_clean.drop_duplicates()\n",
    "display(df_actividades_clean.shape[0])\n",
    "display(df_actividades_clean.head())"
   ]
  },
  {
   "cell_type": "markdown",
   "metadata": {},
   "source": [
    "#### Guardamos a csv las Actividades, para posterior tratamiento."
   ]
  },
  {
   "cell_type": "code",
   "execution_count": 5,
   "metadata": {},
   "outputs": [],
   "source": [
    "df_actividades_clean.to_csv(f\"../data/data_actividades_eda.csv\")"
   ]
  },
  {
   "cell_type": "markdown",
   "metadata": {},
   "source": [
    "#### Hoteles"
   ]
  },
  {
   "cell_type": "code",
   "execution_count": 6,
   "metadata": {},
   "outputs": [
    {
     "data": {
      "text/plain": [
       "80"
      ]
     },
     "metadata": {},
     "output_type": "display_data"
    },
    {
     "data": {
      "text/html": [
       "<div>\n",
       "<style scoped>\n",
       "    .dataframe tbody tr th:only-of-type {\n",
       "        vertical-align: middle;\n",
       "    }\n",
       "\n",
       "    .dataframe tbody tr th {\n",
       "        vertical-align: top;\n",
       "    }\n",
       "\n",
       "    .dataframe thead th {\n",
       "        text-align: right;\n",
       "    }\n",
       "</style>\n",
       "<table border=\"1\" class=\"dataframe\">\n",
       "  <thead>\n",
       "    <tr style=\"text-align: right;\">\n",
       "      <th></th>\n",
       "      <th>destination</th>\n",
       "      <th>city</th>\n",
       "      <th>checkin_date</th>\n",
       "      <th>checkout_date</th>\n",
       "      <th>address</th>\n",
       "      <th>accommodation_type_name</th>\n",
       "      <th>distance</th>\n",
       "      <th>checkin</th>\n",
       "      <th>checkout</th>\n",
       "      <th>review_score</th>\n",
       "      <th>price_total</th>\n",
       "      <th>price_night</th>\n",
       "      <th>hotel_name</th>\n",
       "      <th>class</th>\n",
       "    </tr>\n",
       "  </thead>\n",
       "  <tbody>\n",
       "    <tr>\n",
       "      <th>0</th>\n",
       "      <td>Valencia</td>\n",
       "      <td>Valencia</td>\n",
       "      <td>2024-11-01</td>\n",
       "      <td>2024-11-03</td>\n",
       "      <td>168 Avinguda del Port</td>\n",
       "      <td>Apartamento</td>\n",
       "      <td>2.67</td>\n",
       "      <td>15:00</td>\n",
       "      <td>11:00</td>\n",
       "      <td>8.2</td>\n",
       "      <td>388.37</td>\n",
       "      <td>194.185</td>\n",
       "      <td>Valencia Luxury - Sea Port I</td>\n",
       "      <td>0.0</td>\n",
       "    </tr>\n",
       "    <tr>\n",
       "      <th>1</th>\n",
       "      <td>Valencia</td>\n",
       "      <td>Valencia</td>\n",
       "      <td>2024-11-01</td>\n",
       "      <td>2024-11-03</td>\n",
       "      <td>Bailen 18, 1º</td>\n",
       "      <td>Hostal o pensión</td>\n",
       "      <td>0.39</td>\n",
       "      <td>14:00</td>\n",
       "      <td>11:00</td>\n",
       "      <td>5.9</td>\n",
       "      <td>168.12</td>\n",
       "      <td>84.060</td>\n",
       "      <td>NWT Central Station Valencia</td>\n",
       "      <td>0.0</td>\n",
       "    </tr>\n",
       "    <tr>\n",
       "      <th>2</th>\n",
       "      <td>Valencia</td>\n",
       "      <td>València</td>\n",
       "      <td>2024-11-01</td>\n",
       "      <td>2024-11-03</td>\n",
       "      <td>C/ Jose Benlliure 236</td>\n",
       "      <td>Apartamento</td>\n",
       "      <td>4.01</td>\n",
       "      <td>15:00</td>\n",
       "      <td>11:00</td>\n",
       "      <td>7.8</td>\n",
       "      <td>314.40</td>\n",
       "      <td>119.700</td>\n",
       "      <td>Best Valencia Beach Flat Historic Area next to...</td>\n",
       "      <td>0.0</td>\n",
       "    </tr>\n",
       "    <tr>\n",
       "      <th>3</th>\n",
       "      <td>Valencia</td>\n",
       "      <td>Valencia</td>\n",
       "      <td>2024-11-01</td>\n",
       "      <td>2024-11-03</td>\n",
       "      <td>Escritor Rafael Ferreres, 22</td>\n",
       "      <td>Hotel</td>\n",
       "      <td>2.60</td>\n",
       "      <td>16:00</td>\n",
       "      <td>12:00</td>\n",
       "      <td>8.1</td>\n",
       "      <td>400.00</td>\n",
       "      <td>200.000</td>\n",
       "      <td>Holiday Inn Express Ciudad de las Ciencias, an...</td>\n",
       "      <td>3.0</td>\n",
       "    </tr>\n",
       "    <tr>\n",
       "      <th>4</th>\n",
       "      <td>Valencia</td>\n",
       "      <td>Valencia</td>\n",
       "      <td>2024-11-01</td>\n",
       "      <td>2024-11-03</td>\n",
       "      <td>Escultor Vicente Beltrán Grimal, 2</td>\n",
       "      <td>Hotel</td>\n",
       "      <td>2.56</td>\n",
       "      <td>15:00</td>\n",
       "      <td>12:00</td>\n",
       "      <td>8.4</td>\n",
       "      <td>367.00</td>\n",
       "      <td>183.500</td>\n",
       "      <td>Eurostars Acteón</td>\n",
       "      <td>4.0</td>\n",
       "    </tr>\n",
       "  </tbody>\n",
       "</table>\n",
       "</div>"
      ],
      "text/plain": [
       "  destination      city checkin_date checkout_date  \\\n",
       "0    Valencia  Valencia   2024-11-01    2024-11-03   \n",
       "1    Valencia  Valencia   2024-11-01    2024-11-03   \n",
       "2    Valencia  València   2024-11-01    2024-11-03   \n",
       "3    Valencia  Valencia   2024-11-01    2024-11-03   \n",
       "4    Valencia  Valencia   2024-11-01    2024-11-03   \n",
       "\n",
       "                              address accommodation_type_name  distance  \\\n",
       "0               168 Avinguda del Port             Apartamento      2.67   \n",
       "1                       Bailen 18, 1º        Hostal o pensión      0.39   \n",
       "2               C/ Jose Benlliure 236             Apartamento      4.01   \n",
       "3        Escritor Rafael Ferreres, 22                   Hotel      2.60   \n",
       "4  Escultor Vicente Beltrán Grimal, 2                   Hotel      2.56   \n",
       "\n",
       "  checkin checkout  review_score  price_total  price_night  \\\n",
       "0   15:00    11:00           8.2       388.37      194.185   \n",
       "1   14:00    11:00           5.9       168.12       84.060   \n",
       "2   15:00    11:00           7.8       314.40      119.700   \n",
       "3   16:00    12:00           8.1       400.00      200.000   \n",
       "4   15:00    12:00           8.4       367.00      183.500   \n",
       "\n",
       "                                          hotel_name  class  \n",
       "0                       Valencia Luxury - Sea Port I    0.0  \n",
       "1                       NWT Central Station Valencia    0.0  \n",
       "2  Best Valencia Beach Flat Historic Area next to...    0.0  \n",
       "3  Holiday Inn Express Ciudad de las Ciencias, an...    3.0  \n",
       "4                                   Eurostars Acteón    4.0  "
      ]
     },
     "metadata": {},
     "output_type": "display_data"
    }
   ],
   "source": [
    "display(df_hoteles.shape[0])\n",
    "display(df_hoteles.head())"
   ]
  },
  {
   "cell_type": "markdown",
   "metadata": {},
   "source": [
    "#### Nos quedamos con las columnas destination, city, checkin_date, accommodation_type_name, distance, review_score, price_total, hotel_name, class de hoteles y elminamos duplicados."
   ]
  },
  {
   "cell_type": "code",
   "execution_count": 7,
   "metadata": {},
   "outputs": [
    {
     "data": {
      "text/plain": [
       "80"
      ]
     },
     "metadata": {},
     "output_type": "display_data"
    },
    {
     "data": {
      "text/html": [
       "<div>\n",
       "<style scoped>\n",
       "    .dataframe tbody tr th:only-of-type {\n",
       "        vertical-align: middle;\n",
       "    }\n",
       "\n",
       "    .dataframe tbody tr th {\n",
       "        vertical-align: top;\n",
       "    }\n",
       "\n",
       "    .dataframe thead th {\n",
       "        text-align: right;\n",
       "    }\n",
       "</style>\n",
       "<table border=\"1\" class=\"dataframe\">\n",
       "  <thead>\n",
       "    <tr style=\"text-align: right;\">\n",
       "      <th></th>\n",
       "      <th>destination</th>\n",
       "      <th>city</th>\n",
       "      <th>checkin_date</th>\n",
       "      <th>accommodation_type_name</th>\n",
       "      <th>distance</th>\n",
       "      <th>review_score</th>\n",
       "      <th>price_total</th>\n",
       "      <th>hotel_name</th>\n",
       "      <th>class</th>\n",
       "    </tr>\n",
       "  </thead>\n",
       "  <tbody>\n",
       "    <tr>\n",
       "      <th>0</th>\n",
       "      <td>Valencia</td>\n",
       "      <td>Valencia</td>\n",
       "      <td>2024-11-01</td>\n",
       "      <td>Apartamento</td>\n",
       "      <td>2.67</td>\n",
       "      <td>8.2</td>\n",
       "      <td>388.37</td>\n",
       "      <td>Valencia Luxury - Sea Port I</td>\n",
       "      <td>0.0</td>\n",
       "    </tr>\n",
       "    <tr>\n",
       "      <th>1</th>\n",
       "      <td>Valencia</td>\n",
       "      <td>Valencia</td>\n",
       "      <td>2024-11-01</td>\n",
       "      <td>Hostal o pensión</td>\n",
       "      <td>0.39</td>\n",
       "      <td>5.9</td>\n",
       "      <td>168.12</td>\n",
       "      <td>NWT Central Station Valencia</td>\n",
       "      <td>0.0</td>\n",
       "    </tr>\n",
       "    <tr>\n",
       "      <th>2</th>\n",
       "      <td>Valencia</td>\n",
       "      <td>València</td>\n",
       "      <td>2024-11-01</td>\n",
       "      <td>Apartamento</td>\n",
       "      <td>4.01</td>\n",
       "      <td>7.8</td>\n",
       "      <td>314.40</td>\n",
       "      <td>Best Valencia Beach Flat Historic Area next to...</td>\n",
       "      <td>0.0</td>\n",
       "    </tr>\n",
       "    <tr>\n",
       "      <th>3</th>\n",
       "      <td>Valencia</td>\n",
       "      <td>Valencia</td>\n",
       "      <td>2024-11-01</td>\n",
       "      <td>Hotel</td>\n",
       "      <td>2.60</td>\n",
       "      <td>8.1</td>\n",
       "      <td>400.00</td>\n",
       "      <td>Holiday Inn Express Ciudad de las Ciencias, an...</td>\n",
       "      <td>3.0</td>\n",
       "    </tr>\n",
       "    <tr>\n",
       "      <th>4</th>\n",
       "      <td>Valencia</td>\n",
       "      <td>Valencia</td>\n",
       "      <td>2024-11-01</td>\n",
       "      <td>Hotel</td>\n",
       "      <td>2.56</td>\n",
       "      <td>8.4</td>\n",
       "      <td>367.00</td>\n",
       "      <td>Eurostars Acteón</td>\n",
       "      <td>4.0</td>\n",
       "    </tr>\n",
       "  </tbody>\n",
       "</table>\n",
       "</div>"
      ],
      "text/plain": [
       "  destination      city checkin_date accommodation_type_name  distance  \\\n",
       "0    Valencia  Valencia   2024-11-01             Apartamento      2.67   \n",
       "1    Valencia  Valencia   2024-11-01        Hostal o pensión      0.39   \n",
       "2    Valencia  València   2024-11-01             Apartamento      4.01   \n",
       "3    Valencia  Valencia   2024-11-01                   Hotel      2.60   \n",
       "4    Valencia  Valencia   2024-11-01                   Hotel      2.56   \n",
       "\n",
       "   review_score  price_total  \\\n",
       "0           8.2       388.37   \n",
       "1           5.9       168.12   \n",
       "2           7.8       314.40   \n",
       "3           8.1       400.00   \n",
       "4           8.4       367.00   \n",
       "\n",
       "                                          hotel_name  class  \n",
       "0                       Valencia Luxury - Sea Port I    0.0  \n",
       "1                       NWT Central Station Valencia    0.0  \n",
       "2  Best Valencia Beach Flat Historic Area next to...    0.0  \n",
       "3  Holiday Inn Express Ciudad de las Ciencias, an...    3.0  \n",
       "4                                   Eurostars Acteón    4.0  "
      ]
     },
     "metadata": {},
     "output_type": "display_data"
    }
   ],
   "source": [
    "df_hoteles_clean = df_hoteles[[\"destination\",\"city\",\"checkin_date\",\"accommodation_type_name\",\"distance\",\"review_score\",\"price_total\",\"hotel_name\",\"class\"]]\n",
    "df_hoteles_clean = df_hoteles_clean.drop_duplicates()\n",
    "display(df_hoteles_clean.shape[0])\n",
    "display(df_hoteles_clean.head())"
   ]
  },
  {
   "cell_type": "markdown",
   "metadata": {},
   "source": [
    "#### Guardamos a csv los hoteles, para posterior tratamiento."
   ]
  },
  {
   "cell_type": "code",
   "execution_count": 8,
   "metadata": {},
   "outputs": [],
   "source": [
    "df_hoteles_clean.to_csv(f\"../data/data_hoteles_eda.csv\")"
   ]
  },
  {
   "cell_type": "markdown",
   "metadata": {},
   "source": [
    "#### Vuelos"
   ]
  },
  {
   "cell_type": "code",
   "execution_count": 9,
   "metadata": {},
   "outputs": [
    {
     "data": {
      "text/plain": [
       "80"
      ]
     },
     "metadata": {},
     "output_type": "display_data"
    },
    {
     "data": {
      "text/html": [
       "<div>\n",
       "<style scoped>\n",
       "    .dataframe tbody tr th:only-of-type {\n",
       "        vertical-align: middle;\n",
       "    }\n",
       "\n",
       "    .dataframe tbody tr th {\n",
       "        vertical-align: top;\n",
       "    }\n",
       "\n",
       "    .dataframe thead th {\n",
       "        text-align: right;\n",
       "    }\n",
       "</style>\n",
       "<table border=\"1\" class=\"dataframe\">\n",
       "  <thead>\n",
       "    <tr style=\"text-align: right;\">\n",
       "      <th></th>\n",
       "      <th>id</th>\n",
       "      <th>price</th>\n",
       "      <th>origin</th>\n",
       "      <th>destination</th>\n",
       "      <th>duration_minutes</th>\n",
       "      <th>departure</th>\n",
       "      <th>arrival</th>\n",
       "      <th>carriers</th>\n",
       "    </tr>\n",
       "  </thead>\n",
       "  <tbody>\n",
       "    <tr>\n",
       "      <th>0</th>\n",
       "      <td>13870-2411011455--32222-0-9772-2411011610</td>\n",
       "      <td>126.55</td>\n",
       "      <td>Madrid</td>\n",
       "      <td>Barcelona</td>\n",
       "      <td>75</td>\n",
       "      <td>2024-11-01T14:55:00</td>\n",
       "      <td>2024-11-01T16:10:00</td>\n",
       "      <td>Iberia</td>\n",
       "    </tr>\n",
       "    <tr>\n",
       "      <th>1</th>\n",
       "      <td>9772-2411031515--32222-0-13870-2411031640</td>\n",
       "      <td>126.55</td>\n",
       "      <td>Barcelona</td>\n",
       "      <td>Madrid</td>\n",
       "      <td>85</td>\n",
       "      <td>2024-11-03T15:15:00</td>\n",
       "      <td>2024-11-03T16:40:00</td>\n",
       "      <td>Iberia</td>\n",
       "    </tr>\n",
       "    <tr>\n",
       "      <th>2</th>\n",
       "      <td>13870-2411010715--32222-0-9772-2411010830</td>\n",
       "      <td>122.06</td>\n",
       "      <td>Madrid</td>\n",
       "      <td>Barcelona</td>\n",
       "      <td>75</td>\n",
       "      <td>2024-11-01T07:15:00</td>\n",
       "      <td>2024-11-01T08:30:00</td>\n",
       "      <td>Iberia</td>\n",
       "    </tr>\n",
       "    <tr>\n",
       "      <th>3</th>\n",
       "      <td>9772-2411031515--32222-0-13870-2411031640</td>\n",
       "      <td>122.06</td>\n",
       "      <td>Barcelona</td>\n",
       "      <td>Madrid</td>\n",
       "      <td>85</td>\n",
       "      <td>2024-11-03T15:15:00</td>\n",
       "      <td>2024-11-03T16:40:00</td>\n",
       "      <td>Iberia</td>\n",
       "    </tr>\n",
       "    <tr>\n",
       "      <th>4</th>\n",
       "      <td>13870-2411010730--32680-0-9772-2411010855</td>\n",
       "      <td>120.00</td>\n",
       "      <td>Madrid</td>\n",
       "      <td>Barcelona</td>\n",
       "      <td>85</td>\n",
       "      <td>2024-11-01T07:30:00</td>\n",
       "      <td>2024-11-01T08:55:00</td>\n",
       "      <td>Air Europa</td>\n",
       "    </tr>\n",
       "  </tbody>\n",
       "</table>\n",
       "</div>"
      ],
      "text/plain": [
       "                                          id   price     origin destination  \\\n",
       "0  13870-2411011455--32222-0-9772-2411011610  126.55     Madrid   Barcelona   \n",
       "1  9772-2411031515--32222-0-13870-2411031640  126.55  Barcelona      Madrid   \n",
       "2  13870-2411010715--32222-0-9772-2411010830  122.06     Madrid   Barcelona   \n",
       "3  9772-2411031515--32222-0-13870-2411031640  122.06  Barcelona      Madrid   \n",
       "4  13870-2411010730--32680-0-9772-2411010855  120.00     Madrid   Barcelona   \n",
       "\n",
       "   duration_minutes            departure              arrival    carriers  \n",
       "0                75  2024-11-01T14:55:00  2024-11-01T16:10:00      Iberia  \n",
       "1                85  2024-11-03T15:15:00  2024-11-03T16:40:00      Iberia  \n",
       "2                75  2024-11-01T07:15:00  2024-11-01T08:30:00      Iberia  \n",
       "3                85  2024-11-03T15:15:00  2024-11-03T16:40:00      Iberia  \n",
       "4                85  2024-11-01T07:30:00  2024-11-01T08:55:00  Air Europa  "
      ]
     },
     "metadata": {},
     "output_type": "display_data"
    }
   ],
   "source": [
    "display(df_vuelos.shape[0])\n",
    "display(df_vuelos.head())"
   ]
  },
  {
   "cell_type": "markdown",
   "metadata": {},
   "source": [
    "#### Nos quedamos con las columnas price, origin, origin, departure, carriers de Vuelos y eliminamos duplicados."
   ]
  },
  {
   "cell_type": "code",
   "execution_count": 10,
   "metadata": {},
   "outputs": [
    {
     "data": {
      "text/plain": [
       "77"
      ]
     },
     "metadata": {},
     "output_type": "display_data"
    },
    {
     "data": {
      "text/html": [
       "<div>\n",
       "<style scoped>\n",
       "    .dataframe tbody tr th:only-of-type {\n",
       "        vertical-align: middle;\n",
       "    }\n",
       "\n",
       "    .dataframe tbody tr th {\n",
       "        vertical-align: top;\n",
       "    }\n",
       "\n",
       "    .dataframe thead th {\n",
       "        text-align: right;\n",
       "    }\n",
       "</style>\n",
       "<table border=\"1\" class=\"dataframe\">\n",
       "  <thead>\n",
       "    <tr style=\"text-align: right;\">\n",
       "      <th></th>\n",
       "      <th>price</th>\n",
       "      <th>origin</th>\n",
       "      <th>destination</th>\n",
       "      <th>departure</th>\n",
       "      <th>carriers</th>\n",
       "    </tr>\n",
       "  </thead>\n",
       "  <tbody>\n",
       "    <tr>\n",
       "      <th>0</th>\n",
       "      <td>126.55</td>\n",
       "      <td>Madrid</td>\n",
       "      <td>Barcelona</td>\n",
       "      <td>2024-11-01T14:55:00</td>\n",
       "      <td>Iberia</td>\n",
       "    </tr>\n",
       "    <tr>\n",
       "      <th>1</th>\n",
       "      <td>126.55</td>\n",
       "      <td>Barcelona</td>\n",
       "      <td>Madrid</td>\n",
       "      <td>2024-11-03T15:15:00</td>\n",
       "      <td>Iberia</td>\n",
       "    </tr>\n",
       "    <tr>\n",
       "      <th>2</th>\n",
       "      <td>122.06</td>\n",
       "      <td>Madrid</td>\n",
       "      <td>Barcelona</td>\n",
       "      <td>2024-11-01T07:15:00</td>\n",
       "      <td>Iberia</td>\n",
       "    </tr>\n",
       "    <tr>\n",
       "      <th>3</th>\n",
       "      <td>122.06</td>\n",
       "      <td>Barcelona</td>\n",
       "      <td>Madrid</td>\n",
       "      <td>2024-11-03T15:15:00</td>\n",
       "      <td>Iberia</td>\n",
       "    </tr>\n",
       "    <tr>\n",
       "      <th>4</th>\n",
       "      <td>120.00</td>\n",
       "      <td>Madrid</td>\n",
       "      <td>Barcelona</td>\n",
       "      <td>2024-11-01T07:30:00</td>\n",
       "      <td>Air Europa</td>\n",
       "    </tr>\n",
       "  </tbody>\n",
       "</table>\n",
       "</div>"
      ],
      "text/plain": [
       "    price     origin destination            departure    carriers\n",
       "0  126.55     Madrid   Barcelona  2024-11-01T14:55:00      Iberia\n",
       "1  126.55  Barcelona      Madrid  2024-11-03T15:15:00      Iberia\n",
       "2  122.06     Madrid   Barcelona  2024-11-01T07:15:00      Iberia\n",
       "3  122.06  Barcelona      Madrid  2024-11-03T15:15:00      Iberia\n",
       "4  120.00     Madrid   Barcelona  2024-11-01T07:30:00  Air Europa"
      ]
     },
     "metadata": {},
     "output_type": "display_data"
    }
   ],
   "source": [
    "df_vuelos_clean = df_vuelos[[\"price\",\"origin\",\"destination\",\"departure\",\"carriers\"]]\n",
    "df_vuelos_clean = df_vuelos_clean.drop_duplicates()\n",
    "display(df_vuelos_clean.shape[0])\n",
    "display(df_vuelos_clean.head())"
   ]
  },
  {
   "cell_type": "markdown",
   "metadata": {},
   "source": [
    "#### Guardamos a csv los vuelos, para posterior tratamiento."
   ]
  },
  {
   "cell_type": "code",
   "execution_count": 11,
   "metadata": {},
   "outputs": [],
   "source": [
    "df_vuelos_clean.to_csv(f\"../data/data_sky_scrapper_eda.csv\")"
   ]
  }
 ],
 "metadata": {
  "kernelspec": {
   "display_name": "Python 3",
   "language": "python",
   "name": "python3"
  },
  "language_info": {
   "codemirror_mode": {
    "name": "ipython",
    "version": 3
   },
   "file_extension": ".py",
   "mimetype": "text/x-python",
   "name": "python",
   "nbconvert_exporter": "python",
   "pygments_lexer": "ipython3",
   "version": "3.12.5"
  }
 },
 "nbformat": 4,
 "nbformat_minor": 2
}
