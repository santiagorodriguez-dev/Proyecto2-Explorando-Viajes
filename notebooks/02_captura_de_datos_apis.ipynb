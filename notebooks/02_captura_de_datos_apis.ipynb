{
 "cells": [
  {
   "cell_type": "code",
   "execution_count": 34,
   "metadata": {},
   "outputs": [],
   "source": [
    "import sys\n",
    "import os\n",
    "import http.client\n",
    "import json\n",
    "import pandas as pd # type: ignore\n",
    "import dotenv # type: ignore\n",
    "dotenv.load_dotenv()\n",
    "sys.path.append(\"../\")\n",
    "from src import call_apis as cp"
   ]
  },
  {
   "cell_type": "code",
   "execution_count": 38,
   "metadata": {},
   "outputs": [],
   "source": [
    "key = os.getenv(\"token-sky-scrapper\")\n",
    "datos = ['MAD','BCN','95565077','95565085','2024-11-01','2024-11-03']\n",
    "df = cp.main(key,datos)"
   ]
  },
  {
   "cell_type": "code",
   "execution_count": 39,
   "metadata": {},
   "outputs": [],
   "source": [
    "df.to_csv(f\"../data/data_sky_scrapper.csv\")"
   ]
  }
 ],
 "metadata": {
  "kernelspec": {
   "display_name": "Python 3",
   "language": "python",
   "name": "python3"
  },
  "language_info": {
   "codemirror_mode": {
    "name": "ipython",
    "version": 3
   },
   "file_extension": ".py",
   "mimetype": "text/x-python",
   "name": "python",
   "nbconvert_exporter": "python",
   "pygments_lexer": "ipython3",
   "version": "3.12.5"
  }
 },
 "nbformat": 4,
 "nbformat_minor": 2
}
