{
 "cells": [
  {
   "cell_type": "code",
   "execution_count": 1,
   "metadata": {},
   "outputs": [],
   "source": [
    "import sys\n",
    "import os\n",
    "import pandas as pd # type: ignore\n",
    "import dotenv # type: ignore\n",
    "dotenv.load_dotenv()\n",
    "sys.path.append(\"../\")\n",
    "from src import call_apis_vuelos as cp"
   ]
  },
  {
   "cell_type": "code",
   "execution_count": 2,
   "metadata": {},
   "outputs": [],
   "source": [
    "key = os.getenv(\"token-sky-scrapper\")\n",
    "\n",
    "datos = [['MAD','BCN','95565077','95565085','2024-11-01','2024-11-03'],\n",
    "         ['MAD','BCN','95565077','95565085','2024-11-08','2024-11-10'],\n",
    "         ['MAD','VLC','95565077','95565090','2024-11-01','2024-11-03'],\n",
    "         ['MAD','VLC','95565077','95565090','2024-11-08','2024-11-10']]\n",
    "\n",
    "df = cp.main(key,datos)"
   ]
  },
  {
   "cell_type": "code",
   "execution_count": 3,
   "metadata": {},
   "outputs": [],
   "source": [
    "df = df.reset_index(drop=True)"
   ]
  },
  {
   "cell_type": "code",
   "execution_count": 4,
   "metadata": {},
   "outputs": [
    {
     "data": {
      "text/html": [
       "<div>\n",
       "<style scoped>\n",
       "    .dataframe tbody tr th:only-of-type {\n",
       "        vertical-align: middle;\n",
       "    }\n",
       "\n",
       "    .dataframe tbody tr th {\n",
       "        vertical-align: top;\n",
       "    }\n",
       "\n",
       "    .dataframe thead th {\n",
       "        text-align: right;\n",
       "    }\n",
       "</style>\n",
       "<table border=\"1\" class=\"dataframe\">\n",
       "  <thead>\n",
       "    <tr style=\"text-align: right;\">\n",
       "      <th></th>\n",
       "      <th>id</th>\n",
       "      <th>price</th>\n",
       "      <th>origin</th>\n",
       "      <th>destination</th>\n",
       "      <th>duration_minutes</th>\n",
       "      <th>departure</th>\n",
       "      <th>arrival</th>\n",
       "      <th>carriers</th>\n",
       "    </tr>\n",
       "  </thead>\n",
       "  <tbody>\n",
       "    <tr>\n",
       "      <th>0</th>\n",
       "      <td>13870-2411011455--32222-0-9772-2411011610</td>\n",
       "      <td>126.55</td>\n",
       "      <td>Madrid</td>\n",
       "      <td>Barcelona</td>\n",
       "      <td>75</td>\n",
       "      <td>2024-11-01T14:55:00</td>\n",
       "      <td>2024-11-01T16:10:00</td>\n",
       "      <td>Iberia</td>\n",
       "    </tr>\n",
       "    <tr>\n",
       "      <th>1</th>\n",
       "      <td>9772-2411031515--32222-0-13870-2411031640</td>\n",
       "      <td>126.55</td>\n",
       "      <td>Barcelona</td>\n",
       "      <td>Madrid</td>\n",
       "      <td>85</td>\n",
       "      <td>2024-11-03T15:15:00</td>\n",
       "      <td>2024-11-03T16:40:00</td>\n",
       "      <td>Iberia</td>\n",
       "    </tr>\n",
       "    <tr>\n",
       "      <th>2</th>\n",
       "      <td>13870-2411010715--32222-0-9772-2411010830</td>\n",
       "      <td>122.06</td>\n",
       "      <td>Madrid</td>\n",
       "      <td>Barcelona</td>\n",
       "      <td>75</td>\n",
       "      <td>2024-11-01T07:15:00</td>\n",
       "      <td>2024-11-01T08:30:00</td>\n",
       "      <td>Iberia</td>\n",
       "    </tr>\n",
       "    <tr>\n",
       "      <th>3</th>\n",
       "      <td>9772-2411031515--32222-0-13870-2411031640</td>\n",
       "      <td>122.06</td>\n",
       "      <td>Barcelona</td>\n",
       "      <td>Madrid</td>\n",
       "      <td>85</td>\n",
       "      <td>2024-11-03T15:15:00</td>\n",
       "      <td>2024-11-03T16:40:00</td>\n",
       "      <td>Iberia</td>\n",
       "    </tr>\n",
       "    <tr>\n",
       "      <th>4</th>\n",
       "      <td>13870-2411011600--32222-0-9772-2411011715</td>\n",
       "      <td>128.91</td>\n",
       "      <td>Madrid</td>\n",
       "      <td>Barcelona</td>\n",
       "      <td>75</td>\n",
       "      <td>2024-11-01T16:00:00</td>\n",
       "      <td>2024-11-01T17:15:00</td>\n",
       "      <td>Iberia</td>\n",
       "    </tr>\n",
       "  </tbody>\n",
       "</table>\n",
       "</div>"
      ],
      "text/plain": [
       "                                          id   price     origin destination  \\\n",
       "0  13870-2411011455--32222-0-9772-2411011610  126.55     Madrid   Barcelona   \n",
       "1  9772-2411031515--32222-0-13870-2411031640  126.55  Barcelona      Madrid   \n",
       "2  13870-2411010715--32222-0-9772-2411010830  122.06     Madrid   Barcelona   \n",
       "3  9772-2411031515--32222-0-13870-2411031640  122.06  Barcelona      Madrid   \n",
       "4  13870-2411011600--32222-0-9772-2411011715  128.91     Madrid   Barcelona   \n",
       "\n",
       "   duration_minutes            departure              arrival carriers  \n",
       "0                75  2024-11-01T14:55:00  2024-11-01T16:10:00   Iberia  \n",
       "1                85  2024-11-03T15:15:00  2024-11-03T16:40:00   Iberia  \n",
       "2                75  2024-11-01T07:15:00  2024-11-01T08:30:00   Iberia  \n",
       "3                85  2024-11-03T15:15:00  2024-11-03T16:40:00   Iberia  \n",
       "4                75  2024-11-01T16:00:00  2024-11-01T17:15:00   Iberia  "
      ]
     },
     "execution_count": 4,
     "metadata": {},
     "output_type": "execute_result"
    }
   ],
   "source": [
    "df.head()"
   ]
  },
  {
   "cell_type": "code",
   "execution_count": 5,
   "metadata": {},
   "outputs": [
    {
     "data": {
      "text/plain": [
       "80"
      ]
     },
     "execution_count": 5,
     "metadata": {},
     "output_type": "execute_result"
    }
   ],
   "source": [
    "df.shape[0]"
   ]
  },
  {
   "cell_type": "code",
   "execution_count": 6,
   "metadata": {},
   "outputs": [],
   "source": [
    "df.to_csv(f\"../data/data_sky_scrapper.csv\")"
   ]
  }
 ],
 "metadata": {
  "kernelspec": {
   "display_name": "Python 3",
   "language": "python",
   "name": "python3"
  },
  "language_info": {
   "codemirror_mode": {
    "name": "ipython",
    "version": 3
   },
   "file_extension": ".py",
   "mimetype": "text/x-python",
   "name": "python",
   "nbconvert_exporter": "python",
   "pygments_lexer": "ipython3",
   "version": "3.12.5"
  }
 },
 "nbformat": 4,
 "nbformat_minor": 2
}
