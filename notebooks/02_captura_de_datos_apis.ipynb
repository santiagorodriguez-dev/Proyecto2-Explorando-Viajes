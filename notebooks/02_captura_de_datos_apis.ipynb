{
 "cells": [
  {
   "cell_type": "markdown",
   "metadata": {},
   "source": [
    "#### Importamos librerias"
   ]
  },
  {
   "cell_type": "code",
   "execution_count": 1,
   "metadata": {},
   "outputs": [],
   "source": [
    "import sys\n",
    "import os\n",
    "import pandas as pd # type: ignore\n",
    "import dotenv # type: ignore\n",
    "dotenv.load_dotenv()\n",
    "sys.path.append(\"../\")\n",
    "from src import call_apis_vuelos as cp\n",
    "from src import call_apis_hoteles as ho\n",
    "\n",
    "key = os.getenv(\"token\")"
   ]
  },
  {
   "cell_type": "markdown",
   "metadata": {},
   "source": [
    "#### Hacemos la llamada a la funcion que obientene datos de api de vuelos y guardamos en dataframe"
   ]
  },
  {
   "cell_type": "code",
   "execution_count": 2,
   "metadata": {},
   "outputs": [],
   "source": [
    "datos = [['MAD','BCN','95565077','95565085','2024-11-01','2024-11-03'],\n",
    "         ['MAD','BCN','95565077','95565085','2024-11-08','2024-11-10'],\n",
    "         ['MAD','VLC','95565077','95565090','2024-11-01','2024-11-03'],\n",
    "         ['MAD','VLC','95565077','95565090','2024-11-08','2024-11-10']]\n",
    "\n",
    "df = cp.main(key,datos)"
   ]
  },
  {
   "cell_type": "markdown",
   "metadata": {},
   "source": [
    "#### Comprobamos numero resultados"
   ]
  },
  {
   "cell_type": "code",
   "execution_count": 3,
   "metadata": {},
   "outputs": [
    {
     "data": {
      "text/plain": [
       "80"
      ]
     },
     "execution_count": 3,
     "metadata": {},
     "output_type": "execute_result"
    }
   ],
   "source": [
    "df.shape[0]"
   ]
  },
  {
   "cell_type": "markdown",
   "metadata": {},
   "source": [
    "#### Listado dataframe resultados"
   ]
  },
  {
   "cell_type": "code",
   "execution_count": 4,
   "metadata": {},
   "outputs": [
    {
     "data": {
      "text/html": [
       "<div>\n",
       "<style scoped>\n",
       "    .dataframe tbody tr th:only-of-type {\n",
       "        vertical-align: middle;\n",
       "    }\n",
       "\n",
       "    .dataframe tbody tr th {\n",
       "        vertical-align: top;\n",
       "    }\n",
       "\n",
       "    .dataframe thead th {\n",
       "        text-align: right;\n",
       "    }\n",
       "</style>\n",
       "<table border=\"1\" class=\"dataframe\">\n",
       "  <thead>\n",
       "    <tr style=\"text-align: right;\">\n",
       "      <th></th>\n",
       "      <th>id</th>\n",
       "      <th>price</th>\n",
       "      <th>origin</th>\n",
       "      <th>destination</th>\n",
       "      <th>duration_minutes</th>\n",
       "      <th>departure</th>\n",
       "      <th>arrival</th>\n",
       "      <th>carriers</th>\n",
       "    </tr>\n",
       "  </thead>\n",
       "  <tbody>\n",
       "    <tr>\n",
       "      <th>0</th>\n",
       "      <td>13870-2411011455--32222-0-9772-2411011610</td>\n",
       "      <td>126.55</td>\n",
       "      <td>Madrid</td>\n",
       "      <td>Barcelona</td>\n",
       "      <td>75</td>\n",
       "      <td>2024-11-01T14:55:00</td>\n",
       "      <td>2024-11-01T16:10:00</td>\n",
       "      <td>Iberia</td>\n",
       "    </tr>\n",
       "    <tr>\n",
       "      <th>1</th>\n",
       "      <td>9772-2411031515--32222-0-13870-2411031640</td>\n",
       "      <td>126.55</td>\n",
       "      <td>Barcelona</td>\n",
       "      <td>Madrid</td>\n",
       "      <td>85</td>\n",
       "      <td>2024-11-03T15:15:00</td>\n",
       "      <td>2024-11-03T16:40:00</td>\n",
       "      <td>Iberia</td>\n",
       "    </tr>\n",
       "    <tr>\n",
       "      <th>2</th>\n",
       "      <td>13870-2411010715--32222-0-9772-2411010830</td>\n",
       "      <td>122.06</td>\n",
       "      <td>Madrid</td>\n",
       "      <td>Barcelona</td>\n",
       "      <td>75</td>\n",
       "      <td>2024-11-01T07:15:00</td>\n",
       "      <td>2024-11-01T08:30:00</td>\n",
       "      <td>Iberia</td>\n",
       "    </tr>\n",
       "    <tr>\n",
       "      <th>3</th>\n",
       "      <td>9772-2411031515--32222-0-13870-2411031640</td>\n",
       "      <td>122.06</td>\n",
       "      <td>Barcelona</td>\n",
       "      <td>Madrid</td>\n",
       "      <td>85</td>\n",
       "      <td>2024-11-03T15:15:00</td>\n",
       "      <td>2024-11-03T16:40:00</td>\n",
       "      <td>Iberia</td>\n",
       "    </tr>\n",
       "    <tr>\n",
       "      <th>4</th>\n",
       "      <td>13870-2411010730--32680-0-9772-2411010855</td>\n",
       "      <td>120.00</td>\n",
       "      <td>Madrid</td>\n",
       "      <td>Barcelona</td>\n",
       "      <td>85</td>\n",
       "      <td>2024-11-01T07:30:00</td>\n",
       "      <td>2024-11-01T08:55:00</td>\n",
       "      <td>Air Europa</td>\n",
       "    </tr>\n",
       "  </tbody>\n",
       "</table>\n",
       "</div>"
      ],
      "text/plain": [
       "                                          id   price     origin destination  \\\n",
       "0  13870-2411011455--32222-0-9772-2411011610  126.55     Madrid   Barcelona   \n",
       "1  9772-2411031515--32222-0-13870-2411031640  126.55  Barcelona      Madrid   \n",
       "2  13870-2411010715--32222-0-9772-2411010830  122.06     Madrid   Barcelona   \n",
       "3  9772-2411031515--32222-0-13870-2411031640  122.06  Barcelona      Madrid   \n",
       "4  13870-2411010730--32680-0-9772-2411010855  120.00     Madrid   Barcelona   \n",
       "\n",
       "   duration_minutes            departure              arrival    carriers  \n",
       "0                75  2024-11-01T14:55:00  2024-11-01T16:10:00      Iberia  \n",
       "1                85  2024-11-03T15:15:00  2024-11-03T16:40:00      Iberia  \n",
       "2                75  2024-11-01T07:15:00  2024-11-01T08:30:00      Iberia  \n",
       "3                85  2024-11-03T15:15:00  2024-11-03T16:40:00      Iberia  \n",
       "4                85  2024-11-01T07:30:00  2024-11-01T08:55:00  Air Europa  "
      ]
     },
     "execution_count": 4,
     "metadata": {},
     "output_type": "execute_result"
    }
   ],
   "source": [
    "df.head()"
   ]
  },
  {
   "cell_type": "markdown",
   "metadata": {},
   "source": [
    "#### Guardamos a CSV"
   ]
  },
  {
   "cell_type": "code",
   "execution_count": 5,
   "metadata": {},
   "outputs": [],
   "source": [
    "df.to_csv(f\"../data/data_sky_scrapper.csv\")"
   ]
  },
  {
   "cell_type": "markdown",
   "metadata": {},
   "source": [
    "#### Hacemos la llamada a la funcion que obientene datos de api de hoteles y guardamos en dataframe"
   ]
  },
  {
   "cell_type": "code",
   "execution_count": 6,
   "metadata": {},
   "outputs": [],
   "source": [
    "datos_hoteles = [[2,'2024-11-03','-406131','2024-11-01','Valencia'],\n",
    "                 [2,'2024-11-10','-406131','2024-11-08','Valencia'],\n",
    "                 [2,'2024-11-03','-372490','2024-11-01','Barcelona'],\n",
    "                 [2,'2024-11-10','-372490','2024-11-08','Barcelona']]\n",
    "\n",
    "df_hoteles = ho.main(key,datos_hoteles)"
   ]
  },
  {
   "cell_type": "markdown",
   "metadata": {},
   "source": [
    "#### Comprobamos numero resultados"
   ]
  },
  {
   "cell_type": "code",
   "execution_count": 7,
   "metadata": {},
   "outputs": [
    {
     "data": {
      "text/plain": [
       "80"
      ]
     },
     "execution_count": 7,
     "metadata": {},
     "output_type": "execute_result"
    }
   ],
   "source": [
    "df_hoteles.shape[0]"
   ]
  },
  {
   "cell_type": "markdown",
   "metadata": {},
   "source": [
    "#### Listado dataframe resultados"
   ]
  },
  {
   "cell_type": "code",
   "execution_count": 8,
   "metadata": {},
   "outputs": [
    {
     "data": {
      "text/html": [
       "<div>\n",
       "<style scoped>\n",
       "    .dataframe tbody tr th:only-of-type {\n",
       "        vertical-align: middle;\n",
       "    }\n",
       "\n",
       "    .dataframe tbody tr th {\n",
       "        vertical-align: top;\n",
       "    }\n",
       "\n",
       "    .dataframe thead th {\n",
       "        text-align: right;\n",
       "    }\n",
       "</style>\n",
       "<table border=\"1\" class=\"dataframe\">\n",
       "  <thead>\n",
       "    <tr style=\"text-align: right;\">\n",
       "      <th></th>\n",
       "      <th>destination</th>\n",
       "      <th>city</th>\n",
       "      <th>checkin_date</th>\n",
       "      <th>checkout_date</th>\n",
       "      <th>address</th>\n",
       "      <th>accommodation_type_name</th>\n",
       "      <th>distance</th>\n",
       "      <th>checkin</th>\n",
       "      <th>checkout</th>\n",
       "      <th>review_score</th>\n",
       "      <th>price_total</th>\n",
       "      <th>price_night</th>\n",
       "      <th>hotel_name</th>\n",
       "      <th>class</th>\n",
       "    </tr>\n",
       "  </thead>\n",
       "  <tbody>\n",
       "    <tr>\n",
       "      <th>0</th>\n",
       "      <td>Valencia</td>\n",
       "      <td>Valencia</td>\n",
       "      <td>2024-11-01</td>\n",
       "      <td>2024-11-03</td>\n",
       "      <td>168 Avinguda del Port</td>\n",
       "      <td>Apartamento</td>\n",
       "      <td>2.67</td>\n",
       "      <td>15:00</td>\n",
       "      <td>11:00</td>\n",
       "      <td>8.2</td>\n",
       "      <td>388.37</td>\n",
       "      <td>194.185</td>\n",
       "      <td>Valencia Luxury - Sea Port I</td>\n",
       "      <td>0.0</td>\n",
       "    </tr>\n",
       "    <tr>\n",
       "      <th>1</th>\n",
       "      <td>Valencia</td>\n",
       "      <td>Valencia</td>\n",
       "      <td>2024-11-01</td>\n",
       "      <td>2024-11-03</td>\n",
       "      <td>Bailen 18, 1º</td>\n",
       "      <td>Hostal o pensión</td>\n",
       "      <td>0.39</td>\n",
       "      <td>14:00</td>\n",
       "      <td>11:00</td>\n",
       "      <td>5.9</td>\n",
       "      <td>168.12</td>\n",
       "      <td>84.060</td>\n",
       "      <td>NWT Central Station Valencia</td>\n",
       "      <td>0.0</td>\n",
       "    </tr>\n",
       "    <tr>\n",
       "      <th>2</th>\n",
       "      <td>Valencia</td>\n",
       "      <td>València</td>\n",
       "      <td>2024-11-01</td>\n",
       "      <td>2024-11-03</td>\n",
       "      <td>C/ Jose Benlliure 236</td>\n",
       "      <td>Apartamento</td>\n",
       "      <td>4.01</td>\n",
       "      <td>15:00</td>\n",
       "      <td>11:00</td>\n",
       "      <td>7.8</td>\n",
       "      <td>314.40</td>\n",
       "      <td>119.700</td>\n",
       "      <td>Best Valencia Beach Flat Historic Area next to...</td>\n",
       "      <td>0.0</td>\n",
       "    </tr>\n",
       "    <tr>\n",
       "      <th>3</th>\n",
       "      <td>Valencia</td>\n",
       "      <td>Valencia</td>\n",
       "      <td>2024-11-01</td>\n",
       "      <td>2024-11-03</td>\n",
       "      <td>Escritor Rafael Ferreres, 22</td>\n",
       "      <td>Hotel</td>\n",
       "      <td>2.60</td>\n",
       "      <td>16:00</td>\n",
       "      <td>12:00</td>\n",
       "      <td>8.1</td>\n",
       "      <td>400.00</td>\n",
       "      <td>200.000</td>\n",
       "      <td>Holiday Inn Express Ciudad de las Ciencias, an...</td>\n",
       "      <td>3.0</td>\n",
       "    </tr>\n",
       "    <tr>\n",
       "      <th>4</th>\n",
       "      <td>Valencia</td>\n",
       "      <td>Valencia</td>\n",
       "      <td>2024-11-01</td>\n",
       "      <td>2024-11-03</td>\n",
       "      <td>Escultor Vicente Beltrán Grimal, 2</td>\n",
       "      <td>Hotel</td>\n",
       "      <td>2.56</td>\n",
       "      <td>15:00</td>\n",
       "      <td>12:00</td>\n",
       "      <td>8.4</td>\n",
       "      <td>367.00</td>\n",
       "      <td>183.500</td>\n",
       "      <td>Eurostars Acteón</td>\n",
       "      <td>4.0</td>\n",
       "    </tr>\n",
       "  </tbody>\n",
       "</table>\n",
       "</div>"
      ],
      "text/plain": [
       "  destination      city checkin_date checkout_date  \\\n",
       "0    Valencia  Valencia   2024-11-01    2024-11-03   \n",
       "1    Valencia  Valencia   2024-11-01    2024-11-03   \n",
       "2    Valencia  València   2024-11-01    2024-11-03   \n",
       "3    Valencia  Valencia   2024-11-01    2024-11-03   \n",
       "4    Valencia  Valencia   2024-11-01    2024-11-03   \n",
       "\n",
       "                              address accommodation_type_name distance  \\\n",
       "0               168 Avinguda del Port             Apartamento     2.67   \n",
       "1                       Bailen 18, 1º        Hostal o pensión     0.39   \n",
       "2               C/ Jose Benlliure 236             Apartamento     4.01   \n",
       "3        Escritor Rafael Ferreres, 22                   Hotel     2.60   \n",
       "4  Escultor Vicente Beltrán Grimal, 2                   Hotel     2.56   \n",
       "\n",
       "  checkin checkout  review_score  price_total  price_night  \\\n",
       "0   15:00    11:00           8.2       388.37      194.185   \n",
       "1   14:00    11:00           5.9       168.12       84.060   \n",
       "2   15:00    11:00           7.8       314.40      119.700   \n",
       "3   16:00    12:00           8.1       400.00      200.000   \n",
       "4   15:00    12:00           8.4       367.00      183.500   \n",
       "\n",
       "                                          hotel_name  class  \n",
       "0                       Valencia Luxury - Sea Port I    0.0  \n",
       "1                       NWT Central Station Valencia    0.0  \n",
       "2  Best Valencia Beach Flat Historic Area next to...    0.0  \n",
       "3  Holiday Inn Express Ciudad de las Ciencias, an...    3.0  \n",
       "4                                   Eurostars Acteón    4.0  "
      ]
     },
     "execution_count": 8,
     "metadata": {},
     "output_type": "execute_result"
    }
   ],
   "source": [
    "df_hoteles.head()"
   ]
  },
  {
   "cell_type": "markdown",
   "metadata": {},
   "source": [
    "#### Guardamos a CSV"
   ]
  },
  {
   "cell_type": "code",
   "execution_count": 9,
   "metadata": {},
   "outputs": [],
   "source": [
    "df_hoteles.to_csv(f\"../data/data_hoteles.csv\")"
   ]
  }
 ],
 "metadata": {
  "kernelspec": {
   "display_name": "Python 3",
   "language": "python",
   "name": "python3"
  },
  "language_info": {
   "codemirror_mode": {
    "name": "ipython",
    "version": 3
   },
   "file_extension": ".py",
   "mimetype": "text/x-python",
   "name": "python",
   "nbconvert_exporter": "python",
   "pygments_lexer": "ipython3",
   "version": "3.12.5"
  }
 },
 "nbformat": 4,
 "nbformat_minor": 2
}
