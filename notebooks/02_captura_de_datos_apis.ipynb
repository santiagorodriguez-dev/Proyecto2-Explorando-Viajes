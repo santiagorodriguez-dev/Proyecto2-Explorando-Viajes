{
 "cells": [
  {
   "cell_type": "code",
   "execution_count": 1,
   "metadata": {},
   "outputs": [],
   "source": [
    "import sys\n",
    "import os\n",
    "import pandas as pd # type: ignore\n",
    "import dotenv # type: ignore\n",
    "dotenv.load_dotenv()\n",
    "sys.path.append(\"../\")\n",
    "from src import call_apis_vuelos as cp\n",
    "from src import call_apis_hoteles as ho\n",
    "\n",
    "key = os.getenv(\"token\")"
   ]
  },
  {
   "cell_type": "code",
   "execution_count": 2,
   "metadata": {},
   "outputs": [],
   "source": [
    "datos = [['MAD','BCN','95565077','95565085','2024-11-01','2024-11-03'],\n",
    "         ['MAD','BCN','95565077','95565085','2024-11-08','2024-11-10'],\n",
    "         ['MAD','VLC','95565077','95565090','2024-11-01','2024-11-03'],\n",
    "         ['MAD','VLC','95565077','95565090','2024-11-08','2024-11-10']]\n",
    "\n",
    "df = cp.main(key,datos)"
   ]
  },
  {
   "cell_type": "code",
   "execution_count": 3,
   "metadata": {},
   "outputs": [],
   "source": [
    "df = df.reset_index(drop=True)"
   ]
  },
  {
   "cell_type": "code",
   "execution_count": null,
   "metadata": {},
   "outputs": [],
   "source": [
    "df.head()"
   ]
  },
  {
   "cell_type": "code",
   "execution_count": null,
   "metadata": {},
   "outputs": [],
   "source": [
    "df.shape[0]"
   ]
  },
  {
   "cell_type": "code",
   "execution_count": 6,
   "metadata": {},
   "outputs": [],
   "source": [
    "df.to_csv(f\"../data/data_sky_scrapper.csv\")"
   ]
  },
  {
   "cell_type": "code",
   "execution_count": 8,
   "metadata": {},
   "outputs": [],
   "source": [
    "datos_hoteles = [['MAD','BCN','95565077','95565085','2024-11-01','2024-11-03']]\n",
    "\n",
    "df_hoteles = ho.main(key,datos_hoteles)"
   ]
  },
  {
   "cell_type": "code",
   "execution_count": 9,
   "metadata": {},
   "outputs": [
    {
     "data": {
      "text/plain": [
       "20"
      ]
     },
     "execution_count": 9,
     "metadata": {},
     "output_type": "execute_result"
    }
   ],
   "source": [
    "df_hoteles.shape[0]"
   ]
  },
  {
   "cell_type": "code",
   "execution_count": 12,
   "metadata": {},
   "outputs": [
    {
     "data": {
      "text/html": [
       "<div>\n",
       "<style scoped>\n",
       "    .dataframe tbody tr th:only-of-type {\n",
       "        vertical-align: middle;\n",
       "    }\n",
       "\n",
       "    .dataframe tbody tr th {\n",
       "        vertical-align: top;\n",
       "    }\n",
       "\n",
       "    .dataframe thead th {\n",
       "        text-align: right;\n",
       "    }\n",
       "</style>\n",
       "<table border=\"1\" class=\"dataframe\">\n",
       "  <thead>\n",
       "    <tr style=\"text-align: right;\">\n",
       "      <th></th>\n",
       "      <th>district</th>\n",
       "      <th>city</th>\n",
       "      <th>accommodation_type_name</th>\n",
       "      <th>distance</th>\n",
       "      <th>checkin</th>\n",
       "      <th>checkout</th>\n",
       "      <th>review_score</th>\n",
       "      <th>address</th>\n",
       "      <th>price_total</th>\n",
       "      <th>price_night</th>\n",
       "      <th>hotel_name</th>\n",
       "      <th>class</th>\n",
       "    </tr>\n",
       "  </thead>\n",
       "  <tbody>\n",
       "    <tr>\n",
       "      <th>0</th>\n",
       "      <td>Camins al Grau</td>\n",
       "      <td>Valencia</td>\n",
       "      <td>Hotel</td>\n",
       "      <td>2.56</td>\n",
       "      <td>15:00</td>\n",
       "      <td>12:00</td>\n",
       "      <td>8.4</td>\n",
       "      <td>Escultor Vicente Beltrán Grimal, 2</td>\n",
       "      <td>367.00</td>\n",
       "      <td>183.50</td>\n",
       "      <td>Eurostars Acteón</td>\n",
       "      <td>4.0</td>\n",
       "    </tr>\n",
       "    <tr>\n",
       "      <th>1</th>\n",
       "      <td>Ciutat Vella</td>\n",
       "      <td>València</td>\n",
       "      <td>Hotel</td>\n",
       "      <td>0.34</td>\n",
       "      <td>14:30</td>\n",
       "      <td>12:00</td>\n",
       "      <td>8.4</td>\n",
       "      <td>9 Carrer de Sant Ferran</td>\n",
       "      <td>810.00</td>\n",
       "      <td>405.00</td>\n",
       "      <td>Catalina Suites</td>\n",
       "      <td>4.0</td>\n",
       "    </tr>\n",
       "    <tr>\n",
       "      <th>2</th>\n",
       "      <td>Ciutat Vella</td>\n",
       "      <td>Valencia</td>\n",
       "      <td>Hotel</td>\n",
       "      <td>0.19</td>\n",
       "      <td>15:00</td>\n",
       "      <td>12:00</td>\n",
       "      <td>8.4</td>\n",
       "      <td>Barcelonina, 5</td>\n",
       "      <td>500.00</td>\n",
       "      <td>250.00</td>\n",
       "      <td>Catalonia Excelsior</td>\n",
       "      <td>4.0</td>\n",
       "    </tr>\n",
       "    <tr>\n",
       "      <th>3</th>\n",
       "      <td>Benicalap</td>\n",
       "      <td>Valencia</td>\n",
       "      <td>Hotel</td>\n",
       "      <td>3.03</td>\n",
       "      <td>14:00</td>\n",
       "      <td>12:00</td>\n",
       "      <td>8.0</td>\n",
       "      <td>Valle De Ayora, 1</td>\n",
       "      <td>344.74</td>\n",
       "      <td>172.37</td>\n",
       "      <td>Ilunion Valencia 4</td>\n",
       "      <td>4.0</td>\n",
       "    </tr>\n",
       "    <tr>\n",
       "      <th>4</th>\n",
       "      <td>Benicalap</td>\n",
       "      <td>Valencia</td>\n",
       "      <td>Hotel</td>\n",
       "      <td>3.05</td>\n",
       "      <td>15:00</td>\n",
       "      <td>12:00</td>\n",
       "      <td>8.5</td>\n",
       "      <td>Valle de Ayora, 3 (Paralela Cortes Valencianas)</td>\n",
       "      <td>365.00</td>\n",
       "      <td>182.50</td>\n",
       "      <td>Eurostars Gran Valencia</td>\n",
       "      <td>4.0</td>\n",
       "    </tr>\n",
       "  </tbody>\n",
       "</table>\n",
       "</div>"
      ],
      "text/plain": [
       "         district      city accommodation_type_name distance checkin checkout  \\\n",
       "0  Camins al Grau  Valencia                   Hotel     2.56   15:00    12:00   \n",
       "1    Ciutat Vella  València                   Hotel     0.34   14:30    12:00   \n",
       "2    Ciutat Vella  Valencia                   Hotel     0.19   15:00    12:00   \n",
       "3       Benicalap  Valencia                   Hotel     3.03   14:00    12:00   \n",
       "4       Benicalap  Valencia                   Hotel     3.05   15:00    12:00   \n",
       "\n",
       "   review_score                                          address  price_total  \\\n",
       "0           8.4               Escultor Vicente Beltrán Grimal, 2       367.00   \n",
       "1           8.4                          9 Carrer de Sant Ferran       810.00   \n",
       "2           8.4                                   Barcelonina, 5       500.00   \n",
       "3           8.0                                Valle De Ayora, 1       344.74   \n",
       "4           8.5  Valle de Ayora, 3 (Paralela Cortes Valencianas)       365.00   \n",
       "\n",
       "   price_night               hotel_name  class  \n",
       "0       183.50         Eurostars Acteón    4.0  \n",
       "1       405.00          Catalina Suites    4.0  \n",
       "2       250.00      Catalonia Excelsior    4.0  \n",
       "3       172.37       Ilunion Valencia 4    4.0  \n",
       "4       182.50  Eurostars Gran Valencia    4.0  "
      ]
     },
     "execution_count": 12,
     "metadata": {},
     "output_type": "execute_result"
    }
   ],
   "source": [
    "df_hoteles.head()"
   ]
  },
  {
   "cell_type": "code",
   "execution_count": 14,
   "metadata": {},
   "outputs": [],
   "source": [
    "df_hoteles.to_csv(f\"../data/data_hoteles.csv\")"
   ]
  }
 ],
 "metadata": {
  "kernelspec": {
   "display_name": "Python 3",
   "language": "python",
   "name": "python3"
  },
  "language_info": {
   "codemirror_mode": {
    "name": "ipython",
    "version": 3
   },
   "file_extension": ".py",
   "mimetype": "text/x-python",
   "name": "python",
   "nbconvert_exporter": "python",
   "pygments_lexer": "ipython3",
   "version": "3.12.5"
  }
 },
 "nbformat": 4,
 "nbformat_minor": 2
}
