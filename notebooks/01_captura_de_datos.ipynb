{
 "cells": [
  {
   "cell_type": "code",
   "execution_count": 1,
   "metadata": {},
   "outputs": [],
   "source": [
    "# Importamos las librerías que necesitamos\n",
    "\n",
    "# Librerías de extracción de actividades\n",
    "# -----------------------------------------------------------------------\n",
    "from bs4 import BeautifulSoup\n",
    "import requests\n",
    "import sys\n",
    "\n",
    "sys.path.append(\"../\")\n",
    "#from src import soporte as sp\n",
    "# Tratamiento de actividades\n",
    "# -----------------------------------------------------------------------\n",
    "import pandas as pd\n",
    "import numpy as np\n",
    "from time import sleep\n",
    "\n",
    "\n",
    "# Importar librerías para automatización de navegadores web con Selenium\n",
    "# -----------------------------------------------------------------------\n",
    "from selenium import webdriver  # Selenium es una herramienta para automatizar la interacción con navegadores web.\n",
    "from webdriver_manager.chrome import ChromeDriverManager  # ChromeDriverManager gestiona la instalación del controlador de Chrome.\n",
    "from selenium.webdriver.common.keys import Keys  # Keys es útil para simular eventos de teclado en Selenium.\n",
    "from selenium.webdriver.support.ui import Select  # Select se utiliza para interactuar con elementos <select> en páginas web.\n",
    "from selenium.webdriver.support.ui import WebDriverWait\n",
    "from selenium.webdriver.support import expected_conditions as EC\n",
    "from selenium.common.exceptions import NoSuchElementException # Excepciones comunes de selenium que nos podemos encontrar"
   ]
  },
  {
   "cell_type": "code",
   "execution_count": 2,
   "metadata": {},
   "outputs": [],
   "source": [
    "date_1 = '2024-11-01'\n",
    "date_2 = '2024-11-03'\n",
    "ciudad = 'valencia'\n",
    "pagina = 1\n",
    "\n",
    "url_format = f\"https://www.civitatis.com/es/valencia/?page={pagina}&fromDate={date_1}&toDate={date_2}\""
   ]
  },
  {
   "cell_type": "code",
   "execution_count": 3,
   "metadata": {},
   "outputs": [],
   "source": [
    "driver = webdriver.Chrome()\n",
    "url_precio = url_format\n",
    "\n",
    "driver.get(url_precio)\n",
    "driver.maximize_window()\n",
    "sleep(5)\n",
    "driver.close()"
   ]
  },
  {
   "cell_type": "code",
   "execution_count": 4,
   "metadata": {},
   "outputs": [],
   "source": [
    "def obtener_actividades(url):\n",
    "\n",
    "    actividades = {\n",
    "        'titulo': [],\n",
    "        'descripcion': [],\n",
    "        'precio': []\n",
    "    }\n",
    "\n",
    "    print(f\"call url: {url}\")\n",
    "    res = requests.get(url)\n",
    "    print(f\"respuesta url: {res.status_code}\")\n",
    "\n",
    "    if res.status_code == 200:\n",
    "        list_titulos = []\n",
    "        list_descripciones = []\n",
    "        list_precios = []\n",
    "                \n",
    "        sopa = BeautifulSoup(res.content, \"html.parser\")\n",
    "        lista_productos = sopa.findAll(\"div\", {\"class\": \"o-search-list__item\"} )\n",
    "\n",
    "        for i in lista_productos:\n",
    "            titulo = i.find(\"h2\").text\n",
    "            descripcion = i.find(\"div\",{\"class\":\"comfort-card__text l-list-card__text\"}).text\n",
    "            precio = i.find(\"span\",{\"class\":\"comfort-card__price__text\"}).text\n",
    "\n",
    "            if (len(titulo) > 0):\n",
    "                list_titulos.append(str(titulo).strip())\n",
    "            else:\n",
    "                list_titulos.append(np.nan)\n",
    "            if (len(descripcion) > 0):\n",
    "                list_descripciones.append(str(descripcion).replace(\"\\xa0\",\" \").strip())\n",
    "            else:\n",
    "                list_descripciones.append(np.nan)\n",
    "            if (len(precio) > 0):\n",
    "                list_precios.append(str(precio).replace(\"€\",\"\").replace(\",\",\".\").strip())\n",
    "            else:\n",
    "                list_precios.append(np.nan)\n",
    "\n",
    "        actividades['titulo'] = list_titulos\n",
    "        actividades['descripcion'] = list_descripciones\n",
    "        actividades['precio'] = list_precios\n",
    "\n",
    "    return actividades\n",
    "\n",
    "    "
   ]
  },
  {
   "cell_type": "code",
   "execution_count": 5,
   "metadata": {},
   "outputs": [
    {
     "name": "stdout",
     "output_type": "stream",
     "text": [
      "call url: https://www.civitatis.com/es/valencia/?page=1&fromDate=2024-11-01&toDate=2024-11-03\n",
      "respuesta url: 200\n"
     ]
    },
    {
     "data": {
      "text/plain": [
       "{'titulo': [nan,\n",
       "  nan,\n",
       "  nan,\n",
       "  nan,\n",
       "  nan,\n",
       "  nan,\n",
       "  nan,\n",
       "  nan,\n",
       "  nan,\n",
       "  nan,\n",
       "  nan,\n",
       "  nan,\n",
       "  nan,\n",
       "  nan,\n",
       "  nan,\n",
       "  nan,\n",
       "  nan,\n",
       "  nan,\n",
       "  nan,\n",
       "  nan],\n",
       " 'descripcion': ['En este free tour por Valencia descubriremos el conjunto monumental de su centro histórico apreciando detalles que pasan inadvertidos a los visitantes.',\n",
       "  'Preparaos para adentraros en el increíble mundo marino con esta entrada para el Oceanogràfic de la Ciudad de las Artes y de las Ciencias de Valencia.',\n",
       "  '¿Queréis conocer los lugares más famosos de Valencia? En este tour visitaremos la Lonja de la Seda, la iglesia de San Nicolás y la catedral. ¡Incluye entradas!',\n",
       "  'Comprad ya la entrada a la Ciudad de las Artes y las Ciencias de Valencia y obtendréis la mejor combinación para visitar este centro de divulgación científica.',\n",
       "  'Servicio privado, puerta a puerta y al mejor precio. Un chófer os esperará en el aeropuerto, en el hotel o donde queráis para llevaros a vuestro destino. Rápido y seguro.',\n",
       "  'En esta excursión al Parque Natural de la Albufera de Valencia visitaremos este conjunto de bosques, arrozales y lagos. ¡Un día único junto al Mediterráneo!',\n",
       "  'Descubrid la capital del Turia a bordo del autobús turístico de Valencia. Podréis subir y bajar tantas veces como deseéis en diferentes puntos de la ciudad.',\n",
       "  'Viajaremos hasta Castellón y visitaremos las laberínticas cuevas de San José, en las que recorreremos en barca el río subterráneo navegable más largo de Europa.',\n",
       "  '¿Os gusta la escultura y pintura contemporáneas? Con esta entrada al Centro de Arte Hortensia Herrero visitaréis este gran centro expositivo de Valencia.',\n",
       "  'Disfrutad de Valencia con este tour privado. Dispondréis de un guía en exclusiva y recorreréis los rincones más emblemáticos de la ciudad de la paella.',\n",
       "  'La capital del Turia ha sido el escenario de muchas historias que os harán temblar. ¿Os atrevéis a descubrirlas en este free tour por la Valencia macabra?',\n",
       "  'Si vais a viajar por España, con esta tarjeta eSIM con Internet podréis conectaros fácilmente a la red y mantener el contacto con vuestros familiares y amigos.',\n",
       "  'En el free tour de los misterios y leyendas de Valencia descubriremos el lado más sórdido de la ciudad reviviendo ejecuciones, crímenes, epidemias y asaltos.',\n",
       "  'Con esta entrada a la iglesia de San Nicolás podréis visitar la Capilla Sixtina valenciana. ¡Quedaréis impresionados ante la decoración de sus bóvedas!',\n",
       "  'Animaos a vivir una noche llena de duende asistiendo a este espectáculo flamenco en Valencia. Además, disfrutaréis de una completa y deliciosa cena.',\n",
       "  'Con la entrada a Bioparc Valencia os sumergiréis en la vida salvaje de los 5 continentes y conoceréis cómo se comportan los animales en su hábitat natural.',\n",
       "  'En este paseo en catamarán a vela por Valencia viviréis una experiencia única mientras disfrutáis de unas excelentes vistas de la ciudad desde el mar.',\n",
       "  'En esta excursión a Peñíscola desde Valencia para conocer la historia del Papa Luna y descubrir el encanto de uno de los pueblos más bonitos de España.',\n",
       "  'En esta excursión a Altea, Villajoyosa y Benidorm visitaremos tres de las localidades más bonitas de la provincia de Alicante. ¡Os cautivarán!',\n",
       "  'Descubrid las leyendas de Valencia a través de ilusiones ópticas con esta entrada al Museo Iluziona. ¡Preparaos para desafiar vuestra percepción de la realidad!'],\n",
       " 'precio': ['¡Gratis!',\n",
       "  '37',\n",
       "  '39',\n",
       "  '45.20',\n",
       "  '35',\n",
       "  '55',\n",
       "  '22',\n",
       "  '69',\n",
       "  '9',\n",
       "  '120',\n",
       "  '¡Gratis!',\n",
       "  '4.20',\n",
       "  '¡Gratis!',\n",
       "  '11',\n",
       "  '55',\n",
       "  '29.80',\n",
       "  '15',\n",
       "  '75',\n",
       "  '95',\n",
       "  '11']}"
      ]
     },
     "execution_count": 5,
     "metadata": {},
     "output_type": "execute_result"
    }
   ],
   "source": [
    "obtener_actividades(url_format)"
   ]
  }
 ],
 "metadata": {
  "kernelspec": {
   "display_name": "Python 3",
   "language": "python",
   "name": "python3"
  },
  "language_info": {
   "codemirror_mode": {
    "name": "ipython",
    "version": 3
   },
   "file_extension": ".py",
   "mimetype": "text/x-python",
   "name": "python",
   "nbconvert_exporter": "python",
   "pygments_lexer": "ipython3",
   "version": "3.12.5"
  }
 },
 "nbformat": 4,
 "nbformat_minor": 2
}
