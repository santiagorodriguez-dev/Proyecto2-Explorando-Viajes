{
 "cells": [
  {
   "cell_type": "code",
   "execution_count": 1,
   "metadata": {},
   "outputs": [],
   "source": [
    "# Importamos las librerías que necesitamos\n",
    "\n",
    "# Librerías de extracción de datos\n",
    "# -----------------------------------------------------------------------\n",
    "from bs4 import BeautifulSoup\n",
    "import requests\n",
    "import sys\n",
    "\n",
    "sys.path.append(\"../\")\n",
    "#from src import soporte as sp\n",
    "# Tratamiento de datos\n",
    "# -----------------------------------------------------------------------\n",
    "import pandas as pd\n",
    "from time import sleep\n",
    "\n",
    "# Importar librerías para automatización de navegadores web con Selenium\n",
    "# -----------------------------------------------------------------------\n",
    "from selenium import webdriver  # Selenium es una herramienta para automatizar la interacción con navegadores web.\n",
    "from webdriver_manager.chrome import ChromeDriverManager  # ChromeDriverManager gestiona la instalación del controlador de Chrome.\n",
    "from selenium.webdriver.common.keys import Keys  # Keys es útil para simular eventos de teclado en Selenium.\n",
    "from selenium.webdriver.support.ui import Select  # Select se utiliza para interactuar con elementos <select> en páginas web.\n",
    "from selenium.webdriver.support.ui import WebDriverWait\n",
    "from selenium.webdriver.support import expected_conditions as EC\n",
    "from selenium.common.exceptions import NoSuchElementException # Excepciones comunes de selenium que nos podemos encontrar"
   ]
  },
  {
   "cell_type": "code",
   "execution_count": 2,
   "metadata": {},
   "outputs": [],
   "source": [
    "date_1 = '2024-11-01'\n",
    "date_2 = '2024-11-03'\n",
    "ciudad = 'valencia'\n",
    "pagina = 1\n",
    "\n",
    "url = f\"https://www.civitatis.com/es/valencia/?page={pagina}&fromDate={date_1}&toDate={date_2}\""
   ]
  },
  {
   "cell_type": "code",
   "execution_count": 3,
   "metadata": {},
   "outputs": [],
   "source": [
    "driver = webdriver.Chrome()\n",
    "url_wunder = url\n",
    "\n",
    "driver.get(url_wunder)\n",
    "driver.maximize_window()\n",
    "sleep(5)\n",
    "driver.close()"
   ]
  },
  {
   "cell_type": "code",
   "execution_count": 4,
   "metadata": {},
   "outputs": [],
   "source": [
    "def carga_datos():\n",
    "    print(url)\n",
    "    res = requests.get(url)\n",
    "    print(res.status_code)\n",
    "            \n",
    "    sopa = BeautifulSoup(res.content, \"html.parser\")\n",
    "    lista_productos = sopa.findAll(\"div\", {\"class\": \"o-search-list__item\"} )\n",
    "\n",
    "    for i in lista_productos:\n",
    "        print(\"titulo:\", i.find(\"h2\").text.strip())\n",
    "        print(\"descripcion:\", i.find(\"div\",{\"class\":\"comfort-card__text l-list-card__text\"}).text.strip())\n",
    "        print(\"precio:\", i.find(\"span\",{\"class\":\"comfort-card__price__text\"}).text.strip())\n",
    "    "
   ]
  },
  {
   "cell_type": "code",
   "execution_count": 5,
   "metadata": {},
   "outputs": [
    {
     "name": "stdout",
     "output_type": "stream",
     "text": [
      "https://www.civitatis.com/es/valencia/?page=1&fromDate=2024-11-01&toDate=2024-11-03\n",
      "200\n",
      "titulo: Free tour por Valencia\n",
      "descripcion: En este free tour por Valencia descubriremos el conjunto monumental de su centro histórico apreciando detalles que pasan inadvertidos a los visitantes.\n",
      "precio: ¡Gratis!\n",
      "titulo: Entrada al Oceanogràfic\n",
      "descripcion: Preparaos para adentraros en el increíble mundo marino con esta entrada para el Oceanogràfic de la Ciudad de las Artes y de las Ciencias de Valencia.\n",
      "precio: 37,10 €\n",
      "titulo: Tour de Valencia al completo con entradas\n",
      "descripcion: ¿Queréis conocer los lugares más famosos de Valencia? En este tour visitaremos la Lonja de la Seda, la iglesia de San Nicolás y la catedral. ¡Incluye entradas!\n",
      "precio: 39 €\n",
      "titulo: Entrada a la Ciudad de las Artes y las Ciencias\n",
      "descripcion: Comprad ya la entrada a la Ciudad de las Artes y las Ciencias de Valencia y obtendréis la mejor combinación para visitar este centro de divulgación científica.\n",
      "precio: 45,20 €\n",
      "titulo: Excursión a La Albufera\n",
      "descripcion: En esta excursión al Parque Natural de la Albufera de Valencia visitaremos este conjunto de bosques, arrozales y lagos. ¡Un día único junto al Mediterráneo!\n",
      "precio: 55 €\n",
      "titulo: Traslados en Valencia\n",
      "descripcion: Servicio privado, puerta a puerta y al mejor precio. Un chófer os esperará en el aeropuerto, en el hotel o donde queráis para llevaros a vuestro destino. Rápido y seguro.\n",
      "precio: 35 €\n",
      "titulo: Autobús turístico de Valencia\n",
      "descripcion: Descubrid la capital del Turia a bordo del autobús turístico de Valencia. Podréis subir y bajar tantas veces como deseéis en diferentes puntos de la ciudad.\n",
      "precio: 22 €\n",
      "titulo: Excursión a las cuevas de San José\n",
      "descripcion: Viajaremos hasta Castellón y visitaremos las laberínticas cuevas de San José, en las que recorreremos en barca el río subterráneo navegable más largo de Europa.\n",
      "precio: 69 €\n",
      "titulo: Entrada al Centro de Arte Hortensia Herrero\n",
      "descripcion: ¿Os gusta la escultura y pintura contemporáneas? Con esta entrada al Centro de Arte Hortensia Herrero visitaréis este gran centro expositivo de Valencia.\n",
      "precio: 9 €\n",
      "titulo: Tour privado por Valencia\n",
      "descripcion: Disfrutad de Valencia con este tour privado. Dispondréis de un guía en exclusiva y recorreréis los rincones más emblemáticos de la ciudad de la paella.\n",
      "precio: 120 €\n",
      "titulo: Free tour por la Valencia macabra\n",
      "descripcion: La capital del Turia ha sido el escenario de muchas historias que os harán temblar. ¿Os atrevéis a descubrirlas en este free tour por la Valencia macabra?\n",
      "precio: ¡Gratis!\n",
      "titulo: Free tour de los misterios y leyendas de Valencia\n",
      "descripcion: En el free tour de los misterios y leyendas de Valencia descubriremos el lado más sórdido de la ciudad reviviendo ejecuciones, crímenes, epidemias y asaltos.\n",
      "precio: ¡Gratis!\n",
      "titulo: Tarjeta eSIM Civitatis España\n",
      "descripcion: Si vais a viajar por España, con esta tarjeta eSIM con Internet podréis conectaros fácilmente a la red y mantener el contacto con vuestros familiares y amigos.\n",
      "precio: 4,20 €\n",
      "titulo: Entrada a la iglesia de San Nicolás\n",
      "descripcion: Con esta entrada a la iglesia de San Nicolás podréis visitar la Capilla Sixtina valenciana. ¡Quedaréis impresionados ante la decoración de sus bóvedas!\n",
      "precio: 11 €\n",
      "titulo: Cena con espectáculo flamenco en Valencia\n",
      "descripcion: Animaos a vivir una noche llena de duende asistiendo a este espectáculo flamenco en Valencia. Además, disfrutaréis de una completa y deliciosa cena.\n",
      "precio: 55 €\n",
      "titulo: Entrada a Bioparc Valencia\n",
      "descripcion: Con la entrada a Bioparc Valencia os sumergiréis en la vida salvaje de los 5 continentes y conoceréis cómo se comportan los animales en su hábitat natural.\n",
      "precio: 28,90 €\n",
      "titulo: Paseo en catamarán por Valencia\n",
      "descripcion: En este paseo en catamarán a vela por Valencia viviréis una experiencia única mientras disfrutáis de unas excelentes vistas de la ciudad desde el mar.\n",
      "precio: 15 €\n",
      "titulo: Excursión a Peñíscola\n",
      "descripcion: En esta excursión a Peñíscola desde Valencia para conocer la historia del Papa Luna y descubrir el encanto de uno de los pueblos más bonitos de España.\n",
      "precio: 75 €\n",
      "titulo: Excursión a Altea, Villajoyosa y Benidorm\n",
      "descripcion: En esta excursión a Altea, Villajoyosa y Benidorm visitaremos tres de las localidades más bonitas de la provincia de Alicante. ¡Os cautivarán!\n",
      "precio: 95 €\n",
      "titulo: Entrada al Museo Iluziona de Valencia\n",
      "descripcion: Descubrid las leyendas de Valencia a través de ilusiones ópticas con esta entrada al Museo Iluziona. ¡Preparaos para desafiar vuestra percepción de la realidad!\n",
      "precio: 9 €\n"
     ]
    }
   ],
   "source": [
    "carga_datos()"
   ]
  }
 ],
 "metadata": {
  "kernelspec": {
   "display_name": "Python 3",
   "language": "python",
   "name": "python3"
  },
  "language_info": {
   "codemirror_mode": {
    "name": "ipython",
    "version": 3
   },
   "file_extension": ".py",
   "mimetype": "text/x-python",
   "name": "python",
   "nbconvert_exporter": "python",
   "pygments_lexer": "ipython3",
   "version": "3.12.5"
  }
 },
 "nbformat": 4,
 "nbformat_minor": 2
}
